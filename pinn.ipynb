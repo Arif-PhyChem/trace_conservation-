{
  "nbformat": 4,
  "nbformat_minor": 0,
  "metadata": {
    "colab": {
      "provenance": [],
      "gpuType": "T4",
      "authorship_tag": "ABX9TyMVYUiOcHacOAfPoddlfHAP",
      "include_colab_link": true
    },
    "kernelspec": {
      "name": "python3",
      "display_name": "Python 3"
    },
    "language_info": {
      "name": "python"
    },
    "accelerator": "GPU"
  },
  "cells": [
    {
      "cell_type": "markdown",
      "metadata": {
        "id": "view-in-github",
        "colab_type": "text"
      },
      "source": [
        "<a href=\"https://colab.research.google.com/github/Arif-PhyChem/trace_conservation/blob/main/pinn.ipynb\" target=\"_parent\"><img src=\"https://colab.research.google.com/assets/colab-badge.svg\" alt=\"Open In Colab\"/></a>"
      ]
    },
    {
      "cell_type": "markdown",
      "source": [
        "[![Open In Colab](https://colab.research.google.com/assets/colab-badge.svg)](\n",
        "https://colab.research.google.com/github/Arif-PhyChem/trace_conservation/blob/main/pinn.ipynb)"
      ],
      "metadata": {
        "id": "qesUG7jE9wh8"
      }
    },
    {
      "cell_type": "code",
      "execution_count": 2,
      "metadata": {
        "id": "ca5cecd1",
        "outputId": "5593c3a0-b6c8-4b5f-cd14-0e2180c789cf",
        "colab": {
          "base_uri": "https://localhost:8080/"
        }
      },
      "outputs": [
        {
          "output_type": "stream",
          "name": "stdout",
          "text": [
            "Cloning into 'MLQD'...\n",
            "remote: Enumerating objects: 1008, done.\u001b[K\n",
            "remote: Counting objects: 100% (284/284), done.\u001b[K\n",
            "remote: Compressing objects: 100% (190/190), done.\u001b[K\n",
            "remote: Total 1008 (delta 135), reused 199 (delta 93), pack-reused 724\u001b[K\n",
            "Receiving objects: 100% (1008/1008), 34.97 MiB | 15.00 MiB/s, done.\n",
            "Resolving deltas: 100% (427/427), done.\n"
          ]
        }
      ],
      "source": [
        "import sys\n",
        "import os\n",
        "\n",
        "! git clone https://github.com/Arif-PhyChem/MLQD.git"
      ]
    },
    {
      "cell_type": "code",
      "execution_count": 3,
      "metadata": {
        "id": "e1e1a3dc",
        "outputId": "d85db3b4-8056-4f07-a2d6-7c4b7d15a1df",
        "colab": {
          "base_uri": "https://localhost:8080/"
        }
      },
      "outputs": [
        {
          "output_type": "stream",
          "name": "stdout",
          "text": [
            "Requirement already satisfied: tensorflow in /usr/local/lib/python3.10/dist-packages (2.15.0)\n",
            "Collecting tensorflow\n",
            "  Downloading tensorflow-2.16.1-cp310-cp310-manylinux_2_17_x86_64.manylinux2014_x86_64.whl (589.8 MB)\n",
            "\u001b[2K     \u001b[90m━━━━━━━━━━━━━━━━━━━━━━━━━━━━━━━━━━━━━━━━\u001b[0m \u001b[32m589.8/589.8 MB\u001b[0m \u001b[31m2.7 MB/s\u001b[0m eta \u001b[36m0:00:00\u001b[0m\n",
            "\u001b[?25hRequirement already satisfied: absl-py>=1.0.0 in /usr/local/lib/python3.10/dist-packages (from tensorflow) (1.4.0)\n",
            "Requirement already satisfied: astunparse>=1.6.0 in /usr/local/lib/python3.10/dist-packages (from tensorflow) (1.6.3)\n",
            "Requirement already satisfied: flatbuffers>=23.5.26 in /usr/local/lib/python3.10/dist-packages (from tensorflow) (24.3.25)\n",
            "Requirement already satisfied: gast!=0.5.0,!=0.5.1,!=0.5.2,>=0.2.1 in /usr/local/lib/python3.10/dist-packages (from tensorflow) (0.5.4)\n",
            "Requirement already satisfied: google-pasta>=0.1.1 in /usr/local/lib/python3.10/dist-packages (from tensorflow) (0.2.0)\n",
            "Collecting h5py>=3.10.0 (from tensorflow)\n",
            "  Downloading h5py-3.11.0-cp310-cp310-manylinux_2_17_x86_64.manylinux2014_x86_64.whl (5.3 MB)\n",
            "\u001b[2K     \u001b[90m━━━━━━━━━━━━━━━━━━━━━━━━━━━━━━━━━━━━━━━━\u001b[0m \u001b[32m5.3/5.3 MB\u001b[0m \u001b[31m95.4 MB/s\u001b[0m eta \u001b[36m0:00:00\u001b[0m\n",
            "\u001b[?25hRequirement already satisfied: libclang>=13.0.0 in /usr/local/lib/python3.10/dist-packages (from tensorflow) (18.1.1)\n",
            "Collecting ml-dtypes~=0.3.1 (from tensorflow)\n",
            "  Downloading ml_dtypes-0.3.2-cp310-cp310-manylinux_2_17_x86_64.manylinux2014_x86_64.whl (2.2 MB)\n",
            "\u001b[2K     \u001b[90m━━━━━━━━━━━━━━━━━━━━━━━━━━━━━━━━━━━━━━━━\u001b[0m \u001b[32m2.2/2.2 MB\u001b[0m \u001b[31m87.8 MB/s\u001b[0m eta \u001b[36m0:00:00\u001b[0m\n",
            "\u001b[?25hRequirement already satisfied: opt-einsum>=2.3.2 in /usr/local/lib/python3.10/dist-packages (from tensorflow) (3.3.0)\n",
            "Requirement already satisfied: packaging in /usr/local/lib/python3.10/dist-packages (from tensorflow) (24.1)\n",
            "Requirement already satisfied: protobuf!=4.21.0,!=4.21.1,!=4.21.2,!=4.21.3,!=4.21.4,!=4.21.5,<5.0.0dev,>=3.20.3 in /usr/local/lib/python3.10/dist-packages (from tensorflow) (3.20.3)\n",
            "Requirement already satisfied: requests<3,>=2.21.0 in /usr/local/lib/python3.10/dist-packages (from tensorflow) (2.31.0)\n",
            "Requirement already satisfied: setuptools in /usr/local/lib/python3.10/dist-packages (from tensorflow) (67.7.2)\n",
            "Requirement already satisfied: six>=1.12.0 in /usr/local/lib/python3.10/dist-packages (from tensorflow) (1.16.0)\n",
            "Requirement already satisfied: termcolor>=1.1.0 in /usr/local/lib/python3.10/dist-packages (from tensorflow) (2.4.0)\n",
            "Requirement already satisfied: typing-extensions>=3.6.6 in /usr/local/lib/python3.10/dist-packages (from tensorflow) (4.12.2)\n",
            "Requirement already satisfied: wrapt>=1.11.0 in /usr/local/lib/python3.10/dist-packages (from tensorflow) (1.14.1)\n",
            "Requirement already satisfied: grpcio<2.0,>=1.24.3 in /usr/local/lib/python3.10/dist-packages (from tensorflow) (1.64.1)\n",
            "Collecting tensorboard<2.17,>=2.16 (from tensorflow)\n",
            "  Downloading tensorboard-2.16.2-py3-none-any.whl (5.5 MB)\n",
            "\u001b[2K     \u001b[90m━━━━━━━━━━━━━━━━━━━━━━━━━━━━━━━━━━━━━━━━\u001b[0m \u001b[32m5.5/5.5 MB\u001b[0m \u001b[31m84.9 MB/s\u001b[0m eta \u001b[36m0:00:00\u001b[0m\n",
            "\u001b[?25hCollecting keras>=3.0.0 (from tensorflow)\n",
            "  Downloading keras-3.3.3-py3-none-any.whl (1.1 MB)\n",
            "\u001b[2K     \u001b[90m━━━━━━━━━━━━━━━━━━━━━━━━━━━━━━━━━━━━━━━━\u001b[0m \u001b[32m1.1/1.1 MB\u001b[0m \u001b[31m74.6 MB/s\u001b[0m eta \u001b[36m0:00:00\u001b[0m\n",
            "\u001b[?25hRequirement already satisfied: tensorflow-io-gcs-filesystem>=0.23.1 in /usr/local/lib/python3.10/dist-packages (from tensorflow) (0.37.0)\n",
            "Requirement already satisfied: numpy<2.0.0,>=1.23.5 in /usr/local/lib/python3.10/dist-packages (from tensorflow) (1.25.2)\n",
            "Requirement already satisfied: wheel<1.0,>=0.23.0 in /usr/local/lib/python3.10/dist-packages (from astunparse>=1.6.0->tensorflow) (0.43.0)\n",
            "Requirement already satisfied: rich in /usr/local/lib/python3.10/dist-packages (from keras>=3.0.0->tensorflow) (13.7.1)\n",
            "Collecting namex (from keras>=3.0.0->tensorflow)\n",
            "  Downloading namex-0.0.8-py3-none-any.whl (5.8 kB)\n",
            "Collecting optree (from keras>=3.0.0->tensorflow)\n",
            "  Downloading optree-0.11.0-cp310-cp310-manylinux_2_17_x86_64.manylinux2014_x86_64.whl (311 kB)\n",
            "\u001b[2K     \u001b[90m━━━━━━━━━━━━━━━━━━━━━━━━━━━━━━━━━━━━━━━━\u001b[0m \u001b[32m311.2/311.2 kB\u001b[0m \u001b[31m30.0 MB/s\u001b[0m eta \u001b[36m0:00:00\u001b[0m\n",
            "\u001b[?25hRequirement already satisfied: charset-normalizer<4,>=2 in /usr/local/lib/python3.10/dist-packages (from requests<3,>=2.21.0->tensorflow) (3.3.2)\n",
            "Requirement already satisfied: idna<4,>=2.5 in /usr/local/lib/python3.10/dist-packages (from requests<3,>=2.21.0->tensorflow) (3.7)\n",
            "Requirement already satisfied: urllib3<3,>=1.21.1 in /usr/local/lib/python3.10/dist-packages (from requests<3,>=2.21.0->tensorflow) (2.0.7)\n",
            "Requirement already satisfied: certifi>=2017.4.17 in /usr/local/lib/python3.10/dist-packages (from requests<3,>=2.21.0->tensorflow) (2024.6.2)\n",
            "Requirement already satisfied: markdown>=2.6.8 in /usr/local/lib/python3.10/dist-packages (from tensorboard<2.17,>=2.16->tensorflow) (3.6)\n",
            "Requirement already satisfied: tensorboard-data-server<0.8.0,>=0.7.0 in /usr/local/lib/python3.10/dist-packages (from tensorboard<2.17,>=2.16->tensorflow) (0.7.2)\n",
            "Requirement already satisfied: werkzeug>=1.0.1 in /usr/local/lib/python3.10/dist-packages (from tensorboard<2.17,>=2.16->tensorflow) (3.0.3)\n",
            "Requirement already satisfied: MarkupSafe>=2.1.1 in /usr/local/lib/python3.10/dist-packages (from werkzeug>=1.0.1->tensorboard<2.17,>=2.16->tensorflow) (2.1.5)\n",
            "Requirement already satisfied: markdown-it-py>=2.2.0 in /usr/local/lib/python3.10/dist-packages (from rich->keras>=3.0.0->tensorflow) (3.0.0)\n",
            "Requirement already satisfied: pygments<3.0.0,>=2.13.0 in /usr/local/lib/python3.10/dist-packages (from rich->keras>=3.0.0->tensorflow) (2.16.1)\n",
            "Requirement already satisfied: mdurl~=0.1 in /usr/local/lib/python3.10/dist-packages (from markdown-it-py>=2.2.0->rich->keras>=3.0.0->tensorflow) (0.1.2)\n",
            "Installing collected packages: namex, optree, ml-dtypes, h5py, tensorboard, keras, tensorflow\n",
            "  Attempting uninstall: ml-dtypes\n",
            "    Found existing installation: ml-dtypes 0.2.0\n",
            "    Uninstalling ml-dtypes-0.2.0:\n",
            "      Successfully uninstalled ml-dtypes-0.2.0\n",
            "  Attempting uninstall: h5py\n",
            "    Found existing installation: h5py 3.9.0\n",
            "    Uninstalling h5py-3.9.0:\n",
            "      Successfully uninstalled h5py-3.9.0\n",
            "  Attempting uninstall: tensorboard\n",
            "    Found existing installation: tensorboard 2.15.2\n",
            "    Uninstalling tensorboard-2.15.2:\n",
            "      Successfully uninstalled tensorboard-2.15.2\n",
            "  Attempting uninstall: keras\n",
            "    Found existing installation: keras 2.15.0\n",
            "    Uninstalling keras-2.15.0:\n",
            "      Successfully uninstalled keras-2.15.0\n",
            "  Attempting uninstall: tensorflow\n",
            "    Found existing installation: tensorflow 2.15.0\n",
            "    Uninstalling tensorflow-2.15.0:\n",
            "      Successfully uninstalled tensorflow-2.15.0\n",
            "\u001b[31mERROR: pip's dependency resolver does not currently take into account all the packages that are installed. This behaviour is the source of the following dependency conflicts.\n",
            "tf-keras 2.15.1 requires tensorflow<2.16,>=2.15, but you have tensorflow 2.16.1 which is incompatible.\u001b[0m\u001b[31m\n",
            "\u001b[0mSuccessfully installed h5py-3.11.0 keras-3.3.3 ml-dtypes-0.3.2 namex-0.0.8 optree-0.11.0 tensorboard-2.16.2 tensorflow-2.16.1\n",
            "Collecting sklearn\n",
            "  Downloading sklearn-0.0.post12.tar.gz (2.6 kB)\n",
            "  \u001b[1;31merror\u001b[0m: \u001b[1msubprocess-exited-with-error\u001b[0m\n",
            "  \n",
            "  \u001b[31m×\u001b[0m \u001b[32mpython setup.py egg_info\u001b[0m did not run successfully.\n",
            "  \u001b[31m│\u001b[0m exit code: \u001b[1;36m1\u001b[0m\n",
            "  \u001b[31m╰─>\u001b[0m See above for output.\n",
            "  \n",
            "  \u001b[1;35mnote\u001b[0m: This error originates from a subprocess, and is likely not a problem with pip.\n",
            "  Preparing metadata (setup.py) ... \u001b[?25l\u001b[?25herror\n",
            "\u001b[1;31merror\u001b[0m: \u001b[1mmetadata-generation-failed\u001b[0m\n",
            "\n",
            "\u001b[31m×\u001b[0m Encountered error while generating package metadata.\n",
            "\u001b[31m╰─>\u001b[0m See above for output.\n",
            "\n",
            "\u001b[1;35mnote\u001b[0m: This is an issue with the package mentioned above, not pip.\n",
            "\u001b[1;36mhint\u001b[0m: See above for details.\n",
            "Requirement already satisfied: hyperopt in /usr/local/lib/python3.10/dist-packages (0.2.7)\n",
            "Requirement already satisfied: numpy in /usr/local/lib/python3.10/dist-packages (from hyperopt) (1.25.2)\n",
            "Requirement already satisfied: scipy in /usr/local/lib/python3.10/dist-packages (from hyperopt) (1.11.4)\n",
            "Requirement already satisfied: six in /usr/local/lib/python3.10/dist-packages (from hyperopt) (1.16.0)\n",
            "Requirement already satisfied: networkx>=2.2 in /usr/local/lib/python3.10/dist-packages (from hyperopt) (3.3)\n",
            "Requirement already satisfied: future in /usr/local/lib/python3.10/dist-packages (from hyperopt) (0.18.3)\n",
            "Requirement already satisfied: tqdm in /usr/local/lib/python3.10/dist-packages (from hyperopt) (4.66.4)\n",
            "Requirement already satisfied: cloudpickle in /usr/local/lib/python3.10/dist-packages (from hyperopt) (2.2.1)\n",
            "Requirement already satisfied: py4j in /usr/local/lib/python3.10/dist-packages (from hyperopt) (0.10.9.7)\n"
          ]
        }
      ],
      "source": [
        "# install the required packages\n",
        "\n",
        "! pip install tensorflow --upgrade\n",
        "! pip install sklearn\n",
        "! pip install hyperopt"
      ]
    },
    {
      "cell_type": "code",
      "execution_count": 4,
      "metadata": {
        "id": "8e9b292c"
      },
      "outputs": [],
      "source": [
        "# Add MLQD's path to system path\n",
        "\n",
        "mlqd_dir='MLQD/dev_ver'\n",
        "sys.path.append(mlqd_dir)\n",
        "\n",
        "from evolution import quant_dyn\n",
        "\n"
      ]
    },
    {
      "cell_type": "code",
      "source": [
        "# get training and test data files from github\n",
        "! git clone https://github.com/Arif-PhyChem/trace_conservation.git"
      ],
      "metadata": {
        "id": "jA7P5vCdaRIr",
        "outputId": "c740a6f8-1f8b-49b1-bc6e-0aee7b9a5db5",
        "colab": {
          "base_uri": "https://localhost:8080/"
        }
      },
      "execution_count": 5,
      "outputs": [
        {
          "output_type": "stream",
          "name": "stdout",
          "text": [
            "Cloning into 'trace_conservation'...\n",
            "remote: Enumerating objects: 154, done.\u001b[K\n",
            "remote: Counting objects: 100% (75/75), done.\u001b[K\n",
            "remote: Compressing objects: 100% (62/62), done.\u001b[K\n",
            "remote: Total 154 (delta 26), reused 35 (delta 3), pack-reused 79\u001b[K\n",
            "Receiving objects: 100% (154/154), 324.94 MiB | 14.39 MiB/s, done.\n",
            "Resolving deltas: 100% (27/27), done.\n",
            "Updating files: 100% (56/56), done.\n"
          ]
        }
      ]
    },
    {
      "cell_type": "markdown",
      "source": [
        "# Physics Informed Neural Networks (PINNs)\n",
        "In the case of PINNs, physical constraints are integrated into the loss function where an additional loss term $\\mathcal{L}_\\text{Tr}$ which penalizes the NN for the deviations from the trace conservation:\n",
        "\n",
        "\\begin{equation}\n",
        "    \\mathcal{L}_\\text{PINN} =  \\sum_{n=1}^N \\mathcal{L}_{nn} + \\omega_\\text{Tr} \\mathcal{L}_\\text{Tr},\n",
        "\\end{equation}\n",
        "where\n",
        "\\begin{equation}\n",
        "    \\mathcal{L}_\\text{Tr} =  \\sum_{m=1}^M \\left( 1 - \\sum_{n=1}^N \\tilde{\\rho}_{{\\rm S},nn,m} \\right)^2.\n",
        "\\end{equation}\n",
        "\n",
        "\\begin{equation}\n",
        "    \\mathcal{L}_\\text{multi} =  \\sum_{n=1}^N \\mathcal{L}_{nn}.\n",
        "\\end{equation}\n",
        "\n",
        "\\begin{equation}\n",
        "    \\mathcal{L}_{nn} =  \\sum_{m=1}^M \\left(\\bar{\\tilde{\\rho}}_{{\\rm S},nn,m} - \\tilde{\\rho}_{{\\rm S},nn,m} \\right)^2,\n",
        "\\end{equation}\n",
        "\n",
        "with $\\bar{\\tilde{\\rho}}_{{\\rm S},nn}$ as NN-predicted values and $\\tilde{\\rho}_{{\\rm S},nn}$ as the reference counterpart. Furthermore, $M$ is the number of training points and $m$ is the index of a training point.\n",
        "\n",
        "In these equations, we can tune how much the deviations from trace conservation are penalized by the weight $\\omega_\\text{Tr}$. Here we use $\\omega_\\text{Tr}=0.8$. Note that the unconstrained NN is a special case of the PINN with $\\omega_\\text{Tr}=0$.\n",
        "\n",
        "To facilitate the training process, we provide pre-prepared training files named 'x.npy' and 'y.npy'. However, if you wish to create your own training files, you can utilize the MLQD tool, available on GitHub at https://github.com/Arif-PhyChem/MLQD, in conjunction with the SB dataset from the QD3SET-1 database, which can be accessed via the DOI link https://doi.org/10.25452/figshare.plus.c.6389553"
      ],
      "metadata": {
        "id": "nbhZm6eHCZdx"
      }
    },
    {
      "cell_type": "markdown",
      "source": [
        "## PINN model for SB model with MLQD\n",
        "\n",
        "For quick run, we are setting training epochs 'TrEpochs' to 10, you should set it to a higher number for better training\n",
        "\n"
      ],
      "metadata": {
        "id": "Gby5NTeAOayC"
      }
    },
    {
      "cell_type": "code",
      "source": [
        "# sb training files (x and y) for unconstrained NN\n",
        "! ls trace_conservation/training_data/sb/pinn"
      ],
      "metadata": {
        "id": "QvYABW1-ak5P",
        "outputId": "16a7f864-5d49-482f-c6fd-430ed6915f18",
        "colab": {
          "base_uri": "https://localhost:8080/"
        }
      },
      "execution_count": 6,
      "outputs": [
        {
          "output_type": "stream",
          "name": "stdout",
          "text": [
            "x.npy  y.npy\n"
          ]
        }
      ]
    },
    {
      "cell_type": "code",
      "execution_count": 7,
      "metadata": {
        "id": "742a43b6",
        "outputId": "1232a485-96bc-4a62-9cdf-364ed401717f",
        "colab": {
          "base_uri": "https://localhost:8080/"
        }
      },
      "outputs": [
        {
          "output_type": "stream",
          "name": "stdout",
          "text": [
            "=================================================================\n",
            "MLQD is a python package developed for Machine Learning-based Quantum Dissipative Dynamics,\n",
            " \t\t\t\t  Version 1.1.1\n",
            "\t\t\t https://github.com/Arif-PhyChem/MLQD\n",
            "\n",
            " \t\t\t Copyright (c) 2023 Arif Ullah\n",
            "\n",
            "All rights reserved. This work is licensed under the Apache Software License 2.0\n",
            "\n",
            "\n",
            "The above copyright notice and this permission notice shall be included \n",
            "in all copies or substantial portions of the Software.\n",
            "\n",
            "\n",
            "The software is provided \"as is\" without warranty of any kind, express or implied, \n",
            "including but not limited to the warranties ofmerchantability, fitness for a particular \n",
            "purpose and noninfringement. In no event shall the authors or copyright holders be \n",
            "liable for any claim, damages or other liability, whether in an action of contract, tort or otherwise, \n",
            "arising from, out of or in connection with the software or the use or other dealings in the software.\n",
            "\n",
            "\n",
            "\t\t\t\t Cite as:\n",
            "\n",
            "1) Ullah A. and Dral P. O., Computer Physics Communications, 2023, 294, 108940\n",
            "2) Ullah A. and Dral P. O., New Journal of Physics, 2021, 23(11), 113019\n",
            "3) Ullah A. and Dral P. O., Nature Communications, 2022, 13(1), 1930\n",
            "4) Ullah A. and Dral P. O., Journal of Physical Chemistry Letters, 2022, 13(26), 6037\n",
            "5) Rodriguez L. E. H.; Ullah A.; Espinosa K. J. R.; Dral P. O. and Kananenka A. A., Machine Learning: Science and Technology, 2022, 3(4), 045016\n",
            "6) Ullah, A., Rodriguez, L. E. H., Dral P. O., and Kananenka, A. A., Frontiers in Physics, 2023, 11, 1223973\n",
            "\n",
            "Contributers List:\n",
            "\n",
            "1) Arif Ullah (main) \n",
            "2) Pavlo O. Dral\n",
            "=================================================================\n",
            "MLQD is started at 2024-06-18 09:23:46.212400\n",
            "=================================================================\n",
            "Setting \"systemType\" to SB\n",
            "MLQD is running with the option QDmodel =  createQDmodel\n",
            "Setting ML Model Type \"QDmodelType\" to RCDYN\n",
            "Setting number of states \"n_states\" to 2\n",
            "You have chosen not to prepare the input files, othewise you should pass \"True\" to prepInput\n",
            "Model will be saved as pinn_sb_model\n",
            "Xfilein is trace_conservation/training_data/sb/pinn/x\n",
            "YfileIn is trace_conservation/training_data/sb/pinn/y\n",
            "You have chosen not to optimize the hyper parameters of the model, otherwise you should pass \"True\" to hyperParam\n",
            "=================================================================\n",
            "Setting patience for early stopping to 30\n",
            "Setting number of epochs for training to 10\n",
            "Setting length of x-input \"xlength\" to default value 81\n",
            "Running with the the dafault propagation time: 20\n",
            "Running with the dafault time-step: 0.05\n",
            "Training a physics-informed neural network (PINN)\n",
            "Running with default prior option 0 with no trace conservation\n",
            "Setting data column \"dataCol\" to None, full reduced density matrix will be considered\n",
            "=================================================================\n",
            "=================================================================\n",
            "Train.ml_RCDYN: Looking for best_param.pkl\n",
            "=================================================================\n",
            "Train.ml_RCDYN: best_param.pkl not found, thus training CNN model with the default structure\n",
            "=================================================================\n",
            "Data: Checking to see whether the input data files trace_conservation/training_data/sb/pinn/x.npy and trace_conservation/training_data/sb/pinn/y.npy exist\n",
            "Data: Loading data files trace_conservation/training_data/sb/pinn/x.npy and trace_conservation/training_data/sb/pinn/y.npy\n",
            "Data: splitting data into sub-training/validation sets with 80/20 % ratio\n",
            "=================================================================\n",
            "cnn.OSTL_default: Running wth EarlyStopping of patience = 30\n",
            "cnn.OSTL_default: Running with batch size = 16 and epochs = 10\n",
            "=================================================================\n"
          ]
        },
        {
          "output_type": "stream",
          "name": "stderr",
          "text": [
            "/usr/local/lib/python3.10/dist-packages/keras/src/layers/convolutional/base_conv.py:107: UserWarning: Do not pass an `input_shape`/`input_dim` argument to a layer. When using Sequential models, prefer using an `Input(shape)` object as the first layer in the model instead.\n",
            "  super().__init__(activity_regularizer=activity_regularizer, **kwargs)\n"
          ]
        },
        {
          "output_type": "stream",
          "name": "stdout",
          "text": [
            "Epoch 1/10\n",
            "Running with custom loss: mse + trace penalty term\n",
            "Running with custom loss: mse + trace penalty term\n",
            "Running with custom loss: mse + trace penalty term\n",
            "2000/2000 - 11s - 6ms/step - loss: 0.0028 - val_loss: 8.0608e-05\n",
            "Epoch 2/10\n",
            "2000/2000 - 6s - 3ms/step - loss: 2.5707e-04 - val_loss: 5.8772e-05\n",
            "Epoch 3/10\n",
            "2000/2000 - 6s - 3ms/step - loss: 2.4071e-04 - val_loss: 3.5110e-05\n",
            "Epoch 4/10\n",
            "2000/2000 - 5s - 3ms/step - loss: 7.9865e-05 - val_loss: 7.4762e-05\n",
            "Epoch 5/10\n",
            "2000/2000 - 5s - 3ms/step - loss: 7.8278e-05 - val_loss: 8.8336e-05\n",
            "Epoch 6/10\n",
            "2000/2000 - 11s - 6ms/step - loss: 5.0973e-05 - val_loss: 1.0780e-04\n",
            "Epoch 7/10\n",
            "2000/2000 - 9s - 5ms/step - loss: 5.2736e-05 - val_loss: 3.2685e-05\n",
            "Epoch 8/10\n",
            "2000/2000 - 5s - 2ms/step - loss: 7.1080e-05 - val_loss: 5.0990e-06\n",
            "Epoch 9/10\n",
            "2000/2000 - 6s - 3ms/step - loss: 2.2362e-05 - val_loss: 6.8898e-06\n",
            "Epoch 10/10\n",
            "2000/2000 - 10s - 5ms/step - loss: 2.9392e-05 - val_loss: 6.5191e-06\n",
            "Restoring model weights from the end of the best epoch: 8.\n",
            "=================================================================\n",
            "cnn.OSTL_default: OSTL model is saved as \" pinn_sb_model.keras \"\n",
            "Train_ml.RCDYN: Time taken for training = 79.0418426990509 sec\n",
            "=================================================================\n",
            "=================================================================\n",
            "MLQD is ended at 2024-06-18 09:25:05.255208\n"
          ]
        },
        {
          "output_type": "execute_result",
          "data": {
            "text/plain": [
              "<evolution.quant_dyn at 0x7cb891a8c610>"
            ]
          },
          "metadata": {},
          "execution_count": 7
        }
      ],
      "source": [
        "# input for MLQD package, more details are given at https://github.com/Arif-PhyChem/MLQD\n",
        "param={\n",
        "    'n_states': 2,\n",
        "      'QDmodel': 'createQDmodel',     # str: create QD model. The dafault option is useQDmodel\n",
        "      'QDmodelType': 'RCDYN',           # str: The type of model. Here KRR and the default option is OSTL\n",
        "      'prepInput' : 'False',           # str: Prepare input files from the data (Default 'False')\n",
        "      'XfileIn': 'trace_conservation/training_data/sb/pinn/x',  # str: (Optional) The prepared X file\n",
        "      'YfileIn': 'trace_conservation/training_data/sb/pinn/y',  # str: (Optional) The prepared Y file\n",
        "      'hyperParam': 'False',  # str: Default is 'False', we can pass 'True' (optimize the hyperparameters) or 'False' (don't optimize and run with the default values)\n",
        "      'pinn': 'True',   # model is physics-informed\n",
        "      'patience': 30,\n",
        "      'OptEpochs': 30,\n",
        "      'TrEpochs': 10,\n",
        "      'max_evals': 30,\n",
        "      'systemType': 'SB',\n",
        "      'QDmodelOut': 'pinn_sb_model'    # str: (Optional), providing a name to save the model at\n",
        "      }\n",
        "quant_dyn(**param)\n",
        "\n"
      ]
    },
    {
      "cell_type": "markdown",
      "source": [
        "## Test for a test trajectory."
      ],
      "metadata": {
        "id": "_1LQlzmnLKQE"
      }
    },
    {
      "cell_type": "code",
      "source": [
        "# test tarjectory\n",
        "! ls trace_conservation/test_data/sb/"
      ],
      "metadata": {
        "colab": {
          "base_uri": "https://localhost:8080/"
        },
        "id": "C_sVIUjdQemH",
        "outputId": "655288e2-f66a-485e-f6ab-dee3e564cd21"
      },
      "execution_count": 11,
      "outputs": [
        {
          "output_type": "stream",
          "name": "stdout",
          "text": [
            "2_epsilon-0.0_Delta-1.0_lambda-0.2_gamma-10.0_beta-0.75.npy\n"
          ]
        }
      ]
    },
    {
      "cell_type": "code",
      "execution_count": 19,
      "metadata": {
        "id": "c5e6a6b5-86f5-42f2-a1df-b7ad9422d466",
        "colab": {
          "base_uri": "https://localhost:8080/",
          "height": 1000
        },
        "outputId": "752d1359-d19f-4eb8-af8b-beefb05cea07"
      },
      "outputs": [
        {
          "output_type": "stream",
          "name": "stdout",
          "text": [
            "=================================================================\n",
            "MLQD is a python package developed for Machine Learning-based Quantum Dissipative Dynamics,\n",
            " \t\t\t\t  Version 1.1.1\n",
            "\t\t\t https://github.com/Arif-PhyChem/MLQD\n",
            "\n",
            " \t\t\t Copyright (c) 2023 Arif Ullah\n",
            "\n",
            "All rights reserved. This work is licensed under the Apache Software License 2.0\n",
            "\n",
            "\n",
            "The above copyright notice and this permission notice shall be included \n",
            "in all copies or substantial portions of the Software.\n",
            "\n",
            "\n",
            "The software is provided \"as is\" without warranty of any kind, express or implied, \n",
            "including but not limited to the warranties ofmerchantability, fitness for a particular \n",
            "purpose and noninfringement. In no event shall the authors or copyright holders be \n",
            "liable for any claim, damages or other liability, whether in an action of contract, tort or otherwise, \n",
            "arising from, out of or in connection with the software or the use or other dealings in the software.\n",
            "\n",
            "\n",
            "\t\t\t\t Cite as:\n",
            "\n",
            "1) Ullah A. and Dral P. O., Computer Physics Communications, 2023, 294, 108940\n",
            "2) Ullah A. and Dral P. O., New Journal of Physics, 2021, 23(11), 113019\n",
            "3) Ullah A. and Dral P. O., Nature Communications, 2022, 13(1), 1930\n",
            "4) Ullah A. and Dral P. O., Journal of Physical Chemistry Letters, 2022, 13(26), 6037\n",
            "5) Rodriguez L. E. H.; Ullah A.; Espinosa K. J. R.; Dral P. O. and Kananenka A. A., Machine Learning: Science and Technology, 2022, 3(4), 045016\n",
            "6) Ullah, A., Rodriguez, L. E. H., Dral P. O., and Kananenka, A. A., Frontiers in Physics, 2023, 11, 1223973\n",
            "\n",
            "Contributers List:\n",
            "\n",
            "1) Arif Ullah (main) \n",
            "2) Pavlo O. Dral\n",
            "=================================================================\n",
            "MLQD is started at 2024-06-18 09:51:22.551545\n",
            "=================================================================\n",
            "Setting \"systemType\" to SB\n",
            "MLQD is running with the option QDmodel =  useQDmodel\n",
            "Setting ML Model Type \"QDmodelType\" to RCDYN\n",
            "Setting number of states \"n_states\" to 2\n",
            "Setting propagation time \"time\" to 10\n",
            "Running with the dafault time-step: 0.05\n",
            "Using the trained model(s) \"pinn_sb_model.keras\" for dynamics prediction\n",
            "The input is = [[ 1.00000000e+00+0.j          0.00000000e+00+0.j\n",
            "   0.00000000e+00+0.j          0.00000000e+00+0.j        ]\n",
            " [ 9.97511789e-01+0.j         -1.29784499e-04+0.04960824j\n",
            "  -1.29784499e-04-0.04960824j  2.48821086e-03+0.j        ]\n",
            " [ 9.90121726e-01+0.j         -8.16277619e-04+0.0979259j\n",
            "  -8.16277619e-04-0.0979259j   9.87827447e-03+0.j        ]\n",
            " [ 9.77987982e-01+0.j         -2.18992728e-03+0.14440629j\n",
            "  -2.18992728e-03-0.14440629j  2.20120184e-02+0.j        ]\n",
            " [ 9.61315281e-01+0.j         -4.17393908e-03+0.18864393j\n",
            "  -4.17393908e-03-0.18864393j  3.86847191e-02+0.j        ]\n",
            " [ 9.40345490e-01+0.j         -6.63090969e-03+0.23029374j\n",
            "  -6.63090969e-03-0.23029374j  5.96545099e-02+0.j        ]\n",
            " [ 9.15353238e-01+0.j         -9.42521132e-03+0.26904317j\n",
            "  -9.42521132e-03-0.26904317j  8.46467617e-02+0.j        ]\n",
            " [ 8.86643176e-01+0.j         -1.24449380e-02+0.30460411j\n",
            "  -1.24449380e-02-0.30460411j  1.13356824e-01+0.j        ]\n",
            " [ 8.54532011e-01+0.j         -1.56059981e-02+0.33669371j\n",
            "  -1.56059981e-02-0.33669371j  1.45467989e-01+0.j        ]\n",
            " [ 8.19402203e-01+0.j         -1.88470526e-02+0.3651006j\n",
            "  -1.88470526e-02-0.3651006j   1.80597797e-01+0.j        ]\n",
            " [ 7.81621555e-01+0.j         -2.21268481e-02+0.38960281j\n",
            "  -2.21268481e-02-0.38960281j  2.18378445e-01+0.j        ]\n",
            " [ 7.41592067e-01+0.j         -2.54174202e-02+0.41002946j\n",
            "  -2.54174202e-02-0.41002946j  2.58407933e-01+0.j        ]\n",
            " [ 6.99734813e-01+0.j         -2.87005645e-02+0.42625997j\n",
            "  -2.87005645e-02-0.42625997j  3.00265187e-01+0.j        ]\n",
            " [ 6.56468738e-01+0.j         -3.19645435e-02+0.43818017j\n",
            "  -3.19645435e-02-0.43818017j  3.43531262e-01+0.j        ]\n",
            " [ 6.12234734e-01+0.j         -3.52022449e-02+0.4457716j\n",
            "  -3.52022449e-02-0.4457716j   3.87765266e-01+0.j        ]\n",
            " [ 5.67459366e-01+0.j         -3.84087245e-02+0.44895352j\n",
            "  -3.84087245e-02-0.44895352j  4.32540634e-01+0.j        ]\n",
            " [ 5.22586384e-01+0.j         -4.15816378e-02+0.44779866j\n",
            "  -4.15816378e-02-0.44779866j  4.77413616e-01+0.j        ]\n",
            " [ 4.78044420e-01+0.j         -4.47194883e-02+0.44237124j\n",
            "  -4.47194883e-02-0.44237124j  5.21955580e-01+0.j        ]\n",
            " [ 4.34257551e-01+0.j         -4.78213992e-02+0.43276297j\n",
            "  -4.78213992e-02-0.43276297j  5.65742449e-01+0.j        ]\n",
            " [ 3.91636146e-01+0.j         -5.08870991e-02+0.41912165j\n",
            "  -5.08870991e-02-0.41912165j  6.08363854e-01+0.j        ]\n",
            " [ 3.50577768e-01+0.j         -5.39165147e-02+0.40162229j\n",
            "  -5.39165147e-02-0.40162229j  6.49422232e-01+0.j        ]\n",
            " [ 3.11452056e-01+0.j         -5.69099068e-02+0.38049094j\n",
            "  -5.69099068e-02-0.38049094j  6.88547944e-01+0.j        ]\n",
            " [ 2.74612584e-01+0.j         -5.98674899e-02+0.35596975j\n",
            "  -5.98674899e-02-0.35596975j  7.25387416e-01+0.j        ]\n",
            " [ 2.40392473e-01+0.j         -6.27894946e-02+0.3283278j\n",
            "  -6.27894946e-02-0.3283278j   7.59607527e-01+0.j        ]\n",
            " [ 2.09071811e-01+0.j         -6.56764875e-02+0.29788526j\n",
            "  -6.56764875e-02-0.29788526j  7.90928189e-01+0.j        ]\n",
            " [ 1.80918355e-01+0.j         -6.85287926e-02+0.26496191j\n",
            "  -6.85287926e-02-0.26496191j  8.19081645e-01+0.j        ]\n",
            " [ 1.56175478e-01+0.j         -7.13466783e-02+0.22989575j\n",
            "  -7.13466783e-02-0.22989575j  8.43824522e-01+0.j        ]\n",
            " [ 1.35014373e-01+0.j         -7.41307747e-02+0.19306109j\n",
            "  -7.41307747e-02-0.19306109j  8.64985627e-01+0.j        ]\n",
            " [ 1.17635957e-01+0.j         -7.68811008e-02+0.154816j\n",
            "  -7.68811008e-02-0.154816j    8.82364043e-01+0.j        ]\n",
            " [ 1.04133599e-01+0.j         -7.95983065e-02+0.11555664j\n",
            "  -7.95983065e-02-0.11555664j  8.95866401e-01+0.j        ]\n",
            " [ 9.45846723e-02+0.j         -8.22828220e-02+0.07567125j\n",
            "  -8.22828220e-02-0.07567125j  9.05415328e-01+0.j        ]\n",
            " [ 8.90400474e-02+0.j         -8.49349738e-02+0.03554796j\n",
            "  -8.49349738e-02-0.03554796j  9.10959953e-01+0.j        ]\n",
            " [ 8.75044301e-02+0.j         -8.75551467e-02-0.00442525j\n",
            "  -8.75551467e-02+0.00442525j  9.12495570e-01+0.j        ]\n",
            " [ 8.99389366e-02+0.j         -9.01437620e-02-0.04386794j\n",
            "  -9.01437620e-02+0.04386794j  9.10061063e-01+0.j        ]\n",
            " [ 9.62669622e-02+0.j         -9.27012383e-02-0.08241079j\n",
            "  -9.27012383e-02+0.08241079j  9.03733038e-01+0.j        ]\n",
            " [ 1.06384241e-01+0.j         -9.52279225e-02-0.11969628j\n",
            "  -9.52279225e-02+0.11969628j  8.93615759e-01+0.j        ]\n",
            " [ 1.20152821e-01+0.j         -9.77241448e-02-0.15538103j\n",
            "  -9.77241448e-02+0.15538103j  8.79847179e-01+0.j        ]\n",
            " [ 1.37396302e-01+0.j         -1.00190272e-01-0.18914231j\n",
            "  -1.00190272e-01+0.18914231j  8.62603698e-01+0.j        ]\n",
            " [ 1.57907121e-01+0.j         -1.02626668e-01-0.22067975j\n",
            "  -1.02626668e-01+0.22067975j  8.42092879e-01+0.j        ]\n",
            " [ 1.81448907e-01+0.j         -1.05033690e-01-0.24971798j\n",
            "  -1.05033690e-01+0.24971798j  8.18551093e-01+0.j        ]\n",
            " [ 2.07759100e-01+0.j         -1.07411692e-01-0.27600892j\n",
            "  -1.07411692e-01+0.27600892j  7.92240900e-01+0.j        ]]\n",
            "You have chosen not to impose the constraint of trace conservation, otherwise you should pass \"True\" to cons_trace\n",
            "=================================================================\n",
            "Running with default prior option 0 with no trace conservation\n",
            "=================================================================\n"
          ]
        },
        {
          "output_type": "display_data",
          "data": {
            "text/plain": [
              "\u001b[1mModel: \"sequential\"\u001b[0m\n"
            ],
            "text/html": [
              "<pre style=\"white-space:pre;overflow-x:auto;line-height:normal;font-family:Menlo,'DejaVu Sans Mono',consolas,'Courier New',monospace\"><span style=\"font-weight: bold\">Model: \"sequential\"</span>\n",
              "</pre>\n"
            ]
          },
          "metadata": {}
        },
        {
          "output_type": "display_data",
          "data": {
            "text/plain": [
              "┏━━━━━━━━━━━━━━━━━━━━━━━━━━━━━━━━━━━━━━┳━━━━━━━━━━━━━━━━━━━━━━━━━━━━━┳━━━━━━━━━━━━━━━━━┓\n",
              "┃\u001b[1m \u001b[0m\u001b[1mLayer (type)                        \u001b[0m\u001b[1m \u001b[0m┃\u001b[1m \u001b[0m\u001b[1mOutput Shape               \u001b[0m\u001b[1m \u001b[0m┃\u001b[1m \u001b[0m\u001b[1m        Param #\u001b[0m\u001b[1m \u001b[0m┃\n",
              "┡━━━━━━━━━━━━━━━━━━━━━━━━━━━━━━━━━━━━━━╇━━━━━━━━━━━━━━━━━━━━━━━━━━━━━╇━━━━━━━━━━━━━━━━━┩\n",
              "│ conv1d (\u001b[38;5;33mConv1D\u001b[0m)                      │ (\u001b[38;5;45mNone\u001b[0m, \u001b[38;5;34m162\u001b[0m, \u001b[38;5;34m80\u001b[0m)             │             \u001b[38;5;34m320\u001b[0m │\n",
              "├──────────────────────────────────────┼─────────────────────────────┼─────────────────┤\n",
              "│ conv1d_1 (\u001b[38;5;33mConv1D\u001b[0m)                    │ (\u001b[38;5;45mNone\u001b[0m, \u001b[38;5;34m162\u001b[0m, \u001b[38;5;34m110\u001b[0m)            │          \u001b[38;5;34m26,510\u001b[0m │\n",
              "├──────────────────────────────────────┼─────────────────────────────┼─────────────────┤\n",
              "│ conv1d_2 (\u001b[38;5;33mConv1D\u001b[0m)                    │ (\u001b[38;5;45mNone\u001b[0m, \u001b[38;5;34m162\u001b[0m, \u001b[38;5;34m80\u001b[0m)             │          \u001b[38;5;34m26,480\u001b[0m │\n",
              "├──────────────────────────────────────┼─────────────────────────────┼─────────────────┤\n",
              "│ max_pooling1d (\u001b[38;5;33mMaxPooling1D\u001b[0m)         │ (\u001b[38;5;45mNone\u001b[0m, \u001b[38;5;34m81\u001b[0m, \u001b[38;5;34m80\u001b[0m)              │               \u001b[38;5;34m0\u001b[0m │\n",
              "├──────────────────────────────────────┼─────────────────────────────┼─────────────────┤\n",
              "│ flatten (\u001b[38;5;33mFlatten\u001b[0m)                    │ (\u001b[38;5;45mNone\u001b[0m, \u001b[38;5;34m6480\u001b[0m)                │               \u001b[38;5;34m0\u001b[0m │\n",
              "├──────────────────────────────────────┼─────────────────────────────┼─────────────────┤\n",
              "│ dense (\u001b[38;5;33mDense\u001b[0m)                        │ (\u001b[38;5;45mNone\u001b[0m, \u001b[38;5;34m32\u001b[0m)                  │         \u001b[38;5;34m207,392\u001b[0m │\n",
              "├──────────────────────────────────────┼─────────────────────────────┼─────────────────┤\n",
              "│ dense_1 (\u001b[38;5;33mDense\u001b[0m)                      │ (\u001b[38;5;45mNone\u001b[0m, \u001b[38;5;34m128\u001b[0m)                 │           \u001b[38;5;34m4,224\u001b[0m │\n",
              "├──────────────────────────────────────┼─────────────────────────────┼─────────────────┤\n",
              "│ dense_2 (\u001b[38;5;33mDense\u001b[0m)                      │ (\u001b[38;5;45mNone\u001b[0m, \u001b[38;5;34m4\u001b[0m)                   │             \u001b[38;5;34m516\u001b[0m │\n",
              "└──────────────────────────────────────┴─────────────────────────────┴─────────────────┘\n"
            ],
            "text/html": [
              "<pre style=\"white-space:pre;overflow-x:auto;line-height:normal;font-family:Menlo,'DejaVu Sans Mono',consolas,'Courier New',monospace\">┏━━━━━━━━━━━━━━━━━━━━━━━━━━━━━━━━━━━━━━┳━━━━━━━━━━━━━━━━━━━━━━━━━━━━━┳━━━━━━━━━━━━━━━━━┓\n",
              "┃<span style=\"font-weight: bold\"> Layer (type)                         </span>┃<span style=\"font-weight: bold\"> Output Shape                </span>┃<span style=\"font-weight: bold\">         Param # </span>┃\n",
              "┡━━━━━━━━━━━━━━━━━━━━━━━━━━━━━━━━━━━━━━╇━━━━━━━━━━━━━━━━━━━━━━━━━━━━━╇━━━━━━━━━━━━━━━━━┩\n",
              "│ conv1d (<span style=\"color: #0087ff; text-decoration-color: #0087ff\">Conv1D</span>)                      │ (<span style=\"color: #00d7ff; text-decoration-color: #00d7ff\">None</span>, <span style=\"color: #00af00; text-decoration-color: #00af00\">162</span>, <span style=\"color: #00af00; text-decoration-color: #00af00\">80</span>)             │             <span style=\"color: #00af00; text-decoration-color: #00af00\">320</span> │\n",
              "├──────────────────────────────────────┼─────────────────────────────┼─────────────────┤\n",
              "│ conv1d_1 (<span style=\"color: #0087ff; text-decoration-color: #0087ff\">Conv1D</span>)                    │ (<span style=\"color: #00d7ff; text-decoration-color: #00d7ff\">None</span>, <span style=\"color: #00af00; text-decoration-color: #00af00\">162</span>, <span style=\"color: #00af00; text-decoration-color: #00af00\">110</span>)            │          <span style=\"color: #00af00; text-decoration-color: #00af00\">26,510</span> │\n",
              "├──────────────────────────────────────┼─────────────────────────────┼─────────────────┤\n",
              "│ conv1d_2 (<span style=\"color: #0087ff; text-decoration-color: #0087ff\">Conv1D</span>)                    │ (<span style=\"color: #00d7ff; text-decoration-color: #00d7ff\">None</span>, <span style=\"color: #00af00; text-decoration-color: #00af00\">162</span>, <span style=\"color: #00af00; text-decoration-color: #00af00\">80</span>)             │          <span style=\"color: #00af00; text-decoration-color: #00af00\">26,480</span> │\n",
              "├──────────────────────────────────────┼─────────────────────────────┼─────────────────┤\n",
              "│ max_pooling1d (<span style=\"color: #0087ff; text-decoration-color: #0087ff\">MaxPooling1D</span>)         │ (<span style=\"color: #00d7ff; text-decoration-color: #00d7ff\">None</span>, <span style=\"color: #00af00; text-decoration-color: #00af00\">81</span>, <span style=\"color: #00af00; text-decoration-color: #00af00\">80</span>)              │               <span style=\"color: #00af00; text-decoration-color: #00af00\">0</span> │\n",
              "├──────────────────────────────────────┼─────────────────────────────┼─────────────────┤\n",
              "│ flatten (<span style=\"color: #0087ff; text-decoration-color: #0087ff\">Flatten</span>)                    │ (<span style=\"color: #00d7ff; text-decoration-color: #00d7ff\">None</span>, <span style=\"color: #00af00; text-decoration-color: #00af00\">6480</span>)                │               <span style=\"color: #00af00; text-decoration-color: #00af00\">0</span> │\n",
              "├──────────────────────────────────────┼─────────────────────────────┼─────────────────┤\n",
              "│ dense (<span style=\"color: #0087ff; text-decoration-color: #0087ff\">Dense</span>)                        │ (<span style=\"color: #00d7ff; text-decoration-color: #00d7ff\">None</span>, <span style=\"color: #00af00; text-decoration-color: #00af00\">32</span>)                  │         <span style=\"color: #00af00; text-decoration-color: #00af00\">207,392</span> │\n",
              "├──────────────────────────────────────┼─────────────────────────────┼─────────────────┤\n",
              "│ dense_1 (<span style=\"color: #0087ff; text-decoration-color: #0087ff\">Dense</span>)                      │ (<span style=\"color: #00d7ff; text-decoration-color: #00d7ff\">None</span>, <span style=\"color: #00af00; text-decoration-color: #00af00\">128</span>)                 │           <span style=\"color: #00af00; text-decoration-color: #00af00\">4,224</span> │\n",
              "├──────────────────────────────────────┼─────────────────────────────┼─────────────────┤\n",
              "│ dense_2 (<span style=\"color: #0087ff; text-decoration-color: #0087ff\">Dense</span>)                      │ (<span style=\"color: #00d7ff; text-decoration-color: #00d7ff\">None</span>, <span style=\"color: #00af00; text-decoration-color: #00af00\">4</span>)                   │             <span style=\"color: #00af00; text-decoration-color: #00af00\">516</span> │\n",
              "└──────────────────────────────────────┴─────────────────────────────┴─────────────────┘\n",
              "</pre>\n"
            ]
          },
          "metadata": {}
        },
        {
          "output_type": "display_data",
          "data": {
            "text/plain": [
              "\u001b[1m Total params: \u001b[0m\u001b[38;5;34m265,442\u001b[0m (1.01 MB)\n"
            ],
            "text/html": [
              "<pre style=\"white-space:pre;overflow-x:auto;line-height:normal;font-family:Menlo,'DejaVu Sans Mono',consolas,'Courier New',monospace\"><span style=\"font-weight: bold\"> Total params: </span><span style=\"color: #00af00; text-decoration-color: #00af00\">265,442</span> (1.01 MB)\n",
              "</pre>\n"
            ]
          },
          "metadata": {}
        },
        {
          "output_type": "display_data",
          "data": {
            "text/plain": [
              "\u001b[1m Trainable params: \u001b[0m\u001b[38;5;34m265,442\u001b[0m (1.01 MB)\n"
            ],
            "text/html": [
              "<pre style=\"white-space:pre;overflow-x:auto;line-height:normal;font-family:Menlo,'DejaVu Sans Mono',consolas,'Courier New',monospace\"><span style=\"font-weight: bold\"> Trainable params: </span><span style=\"color: #00af00; text-decoration-color: #00af00\">265,442</span> (1.01 MB)\n",
              "</pre>\n"
            ]
          },
          "metadata": {}
        },
        {
          "output_type": "display_data",
          "data": {
            "text/plain": [
              "\u001b[1m Non-trainable params: \u001b[0m\u001b[38;5;34m0\u001b[0m (0.00 B)\n"
            ],
            "text/html": [
              "<pre style=\"white-space:pre;overflow-x:auto;line-height:normal;font-family:Menlo,'DejaVu Sans Mono',consolas,'Courier New',monospace\"><span style=\"font-weight: bold\"> Non-trainable params: </span><span style=\"color: #00af00; text-decoration-color: #00af00\">0</span> (0.00 B)\n",
              "</pre>\n"
            ]
          },
          "metadata": {}
        },
        {
          "output_type": "stream",
          "name": "stdout",
          "text": [
            "ml_dyn.RCDYN: Running recursive dynamics with CNN model......\n",
            "ml_dyn.RCDYN: Dynamics is saved in a file  \"pinn_sb_traj\"\n",
            "ml_dyn.RCDYN: Time taken = 10.762964010238647 sec\n",
            "=================================================================\n",
            "No reference trajectory was provided, so dynamics is not plotted. You can provide reference trajectory with \"refTraj\"\n",
            "=================================================================\n",
            "MLQD is ended at 2024-06-18 09:51:33.438070\n"
          ]
        },
        {
          "output_type": "execute_result",
          "data": {
            "text/plain": [
              "<evolution.quant_dyn at 0x7cb88d857340>"
            ]
          },
          "metadata": {},
          "execution_count": 19
        }
      ],
      "source": [
        "# Here we are using MLQD for dynamics prediction, later we will calculate the\n",
        "import numpy as np\n",
        "import tensorflow as tf\n",
        "import matplotlib.pyplot as plt\n",
        "xx = np.load('trace_conservation/test_data/sb/2_epsilon-0.0_Delta-1.0_lambda-0.2_gamma-10.0_beta-0.75.npy')\n",
        "x = xx[0:41,1:]\n",
        "\n",
        "param={\n",
        "    'n_states': 2,\n",
        "    'time': 10,\n",
        "      'QDmodel': 'useQDmodel',     # str: create QD model. The dafault option is useQDmodel\n",
        "      'QDmodelType': 'RCDYN',           # str: The type of model. Here KRR and the default option is OSTL\n",
        "      'XfileIn': x,           # str: (Optional) The prepared X file will be saved at the provided file name\n",
        "      'cons_trace': 'False',\n",
        "      'systemType': 'SB', # str: (Not optional) Need to define, wether your model is spin-boson (SB) or FMO complex (FMO)\n",
        "      'QDmodelIn':  'pinn_sb_model.keras',    # str: (Optional), providing a name to save the model at\n",
        "      'QDtrajOut': 'pinn_sb_traj'  # predicted trajectory will be saved with this name\n",
        "      }\n",
        "quant_dyn(**param)\n"
      ]
    },
    {
      "cell_type": "code",
      "source": [
        "# Plot trace vs time\n",
        "x = np.load('pinn_sb_traj.npy')\n",
        "trace = np.real(x[:,1] + x[:,4])\n",
        "\n",
        "plt.plot(x[:,0], trace)"
      ],
      "metadata": {
        "colab": {
          "base_uri": "https://localhost:8080/",
          "height": 447
        },
        "id": "r6MOQ4z4VeUS",
        "outputId": "2c5f44a0-4c2f-4d33-d811-a2c32f129b44"
      },
      "execution_count": 20,
      "outputs": [
        {
          "output_type": "execute_result",
          "data": {
            "text/plain": [
              "[<matplotlib.lines.Line2D at 0x7cb88db1ac80>]"
            ]
          },
          "metadata": {},
          "execution_count": 20
        },
        {
          "output_type": "display_data",
          "data": {
            "text/plain": [
              "<Figure size 640x480 with 1 Axes>"
            ],
            "image/png": "[encoded data removed]"
          },
          "metadata": {}
        }
      ]
    },
    {
      "cell_type": "markdown",
      "source": [
        "# Let's do it for FMO complex"
      ],
      "metadata": {
        "id": "MaL09S1-1H3m"
      }
    },
    {
      "cell_type": "code",
      "source": [
        "## As the datasize is quite large, we have provided at Zenodo\n",
        "! wget --content-disposition https://zenodo.org/records/12065848/files/training_data.zip?download=1"
      ],
      "metadata": {
        "colab": {
          "base_uri": "https://localhost:8080/"
        },
        "id": "Gf8WMEoWo3g4",
        "outputId": "fedf104e-6eff-42f5-e262-a7539777a90e"
      },
      "execution_count": 23,
      "outputs": [
        {
          "output_type": "stream",
          "name": "stdout",
          "text": [
            "--2024-06-18 09:52:03--  https://zenodo.org/records/12065848/files/training_data.zip?download=1\n",
            "Resolving zenodo.org (zenodo.org)... 188.184.103.159, 188.185.79.172, 188.184.98.238, ...\n",
            "Connecting to zenodo.org (zenodo.org)|188.184.103.159|:443... connected.\n",
            "HTTP request sent, awaiting response... 200 OK\n",
            "Length: 219716862 (210M) [application/octet-stream]\n",
            "Saving to: ‘training_data.zip.2’\n",
            "\n",
            "training_data.zip.2 100%[===================>] 209.54M  18.3MB/s    in 13s     \n",
            "\n",
            "2024-06-18 09:52:17 (16.0 MB/s) - ‘training_data.zip.2’ saved [219716862/219716862]\n",
            "\n"
          ]
        }
      ]
    },
    {
      "cell_type": "code",
      "source": [
        "! unzip training_data"
      ],
      "metadata": {
        "colab": {
          "base_uri": "https://localhost:8080/"
        },
        "id": "TR6mpEcYJJkf",
        "outputId": "62f0e430-a45a-4c3e-904f-8e625f70e430"
      },
      "execution_count": 24,
      "outputs": [
        {
          "output_type": "stream",
          "name": "stdout",
          "text": [
            "Archive:  training_data.zip\n",
            "replace training_data/fmo/hc_pinn/x.npy? [y]es, [n]o, [A]ll, [N]one, [r]ename: yes\n",
            "  inflating: training_data/fmo/hc_pinn/x.npy  yes\n",
            "\n",
            "replace training_data/fmo/hc_pinn/y.npy? [y]es, [n]o, [A]ll, [N]one, [r]ename:   inflating: training_data/fmo/hc_pinn/y.npy  \n",
            "replace training_data/fmo/hc_pinn/y_1.npy? [y]es, [n]o, [A]ll, [N]one, [r]ename: yes\n",
            "  inflating: training_data/fmo/hc_pinn/y_1.npy  \n",
            "replace training_data/fmo/physics_agnostic/site_1/x.npy? [y]es, [n]o, [A]ll, [N]one, [r]ename: yes\n",
            "  inflating: training_data/fmo/physics_agnostic/site_1/x.npy  \n",
            "replace training_data/fmo/physics_agnostic/site_1/y.npy? [y]es, [n]o, [A]ll, [N]one, [r]ename: yes\n",
            "  inflating: training_data/fmo/physics_agnostic/site_1/y.npy  \n",
            "replace training_data/fmo/physics_agnostic/site_2/x.npy? [y]es, [n]o, [A]ll, [N]one, [r]ename: yes\n",
            "  inflating: training_data/fmo/physics_agnostic/site_2/x.npy  \n",
            "replace training_data/fmo/physics_agnostic/site_2/y.npy? [y]es, [n]o, [A]ll, [N]one, [r]ename: yes\n",
            "  inflating: training_data/fmo/physics_agnostic/site_2/y.npy  \n",
            "replace training_data/fmo/physics_agnostic/site_3/x.npy? [y]es, [n]o, [A]ll, [N]one, [r]ename: yes -all\n",
            "  inflating: training_data/fmo/physics_agnostic/site_3/x.npy  \n",
            "replace training_data/fmo/physics_agnostic/site_3/y.npy? [y]es, [n]o, [A]ll, [N]one, [r]ename: yes\n",
            "  inflating: training_data/fmo/physics_agnostic/site_3/y.npy  \n",
            "replace training_data/fmo/physics_agnostic/site_4/x.npy? [y]es, [n]o, [A]ll, [N]one, [r]ename: yes\n",
            "  inflating: training_data/fmo/physics_agnostic/site_4/x.npy  \n",
            "replace training_data/fmo/physics_agnostic/site_4/y.npy? [y]es, [n]o, [A]ll, [N]one, [r]ename: yes\n",
            "  inflating: training_data/fmo/physics_agnostic/site_4/y.npy  \n",
            "replace training_data/fmo/physics_agnostic/site_5/x.npy? [y]es, [n]o, [A]ll, [N]one, [r]ename: yes\n",
            "  inflating: training_data/fmo/physics_agnostic/site_5/x.npy  \n",
            "replace training_data/fmo/physics_agnostic/site_5/y.npy? [y]es, [n]o, [A]ll, [N]one, [r]ename: yes\n",
            "  inflating: training_data/fmo/physics_agnostic/site_5/y.npy  \n",
            "replace training_data/fmo/physics_agnostic/site_6/x.npy? [y]es, [n]o, [A]ll, [N]one, [r]ename: yes\n",
            "  inflating: training_data/fmo/physics_agnostic/site_6/x.npy  \n",
            "replace training_data/fmo/physics_agnostic/site_6/y.npy? [y]es, [n]o, [A]ll, [N]one, [r]ename: yes\n",
            "  inflating: training_data/fmo/physics_agnostic/site_6/y.npy  \n",
            "replace training_data/fmo/physics_agnostic/site_7/x.npy? [y]es, [n]o, [A]ll, [N]one, [r]ename: yes\n",
            "  inflating: training_data/fmo/physics_agnostic/site_7/x.npy  \n",
            "replace training_data/fmo/physics_agnostic/site_7/y.npy? [y]es, [n]o, [A]ll, [N]one, [r]ename: yes\n",
            "  inflating: training_data/fmo/physics_agnostic/site_7/y.npy  \n",
            "replace training_data/fmo/pinn/x.npy? [y]es, [n]o, [A]ll, [N]one, [r]ename: yes\n",
            "  inflating: training_data/fmo/pinn/x.npy  yes\n",
            "y\n",
            "\n",
            "replace training_data/fmo/pinn/y.npy? [y]es, [n]o, [A]ll, [N]one, [r]ename:   inflating: training_data/fmo/pinn/y.npy  \n",
            "replace training_data/fmo/unconstrained/x.npy? [y]es, [n]o, [A]ll, [N]one, [r]ename:   inflating: training_data/fmo/unconstrained/x.npy  y\n",
            "y\n",
            "y\n",
            "\n",
            "replace training_data/fmo/unconstrained/y.npy? [y]es, [n]o, [A]ll, [N]one, [r]ename:   inflating: training_data/fmo/unconstrained/y.npy  \n",
            "replace training_data/sb/hc_pinn/x.npy? [y]es, [n]o, [A]ll, [N]one, [r]ename:   inflating: training_data/sb/hc_pinn/x.npy  \n",
            "replace training_data/sb/hc_pinn/y.npy? [y]es, [n]o, [A]ll, [N]one, [r]ename:   inflating: training_data/sb/hc_pinn/y.npy  \n",
            "replace training_data/sb/hc_pinn/y_1.npy? [y]es, [n]o, [A]ll, [N]one, [r]ename: y\n",
            "  inflating: training_data/sb/hc_pinn/y_1.npy  \n",
            "replace training_data/sb/physics_agnostic/state_1/x.npy? [y]es, [n]o, [A]ll, [N]one, [r]ename: y\n",
            "  inflating: training_data/sb/physics_agnostic/state_1/x.npy  \n",
            "replace training_data/sb/physics_agnostic/state_1/y.npy? [y]es, [n]o, [A]ll, [N]one, [r]ename: y\n",
            "  inflating: training_data/sb/physics_agnostic/state_1/y.npy  \n",
            "replace training_data/sb/physics_agnostic/state_2/x.npy? [y]es, [n]o, [A]ll, [N]one, [r]ename: y\n",
            "  inflating: training_data/sb/physics_agnostic/state_2/x.npy  \n",
            "replace training_data/sb/physics_agnostic/state_2/y.npy? [y]es, [n]o, [A]ll, [N]one, [r]ename: y\n",
            "  inflating: training_data/sb/physics_agnostic/state_2/y.npy  \n",
            "replace training_data/sb/pinn/x.npy? [y]es, [n]o, [A]ll, [N]one, [r]ename: y\n",
            "  inflating: training_data/sb/pinn/x.npy  \n",
            "replace training_data/sb/pinn/y.npy? [y]es, [n]o, [A]ll, [N]one, [r]ename: y\n",
            "  inflating: training_data/sb/pinn/y.npy  \n",
            "replace training_data/sb/unconstrained/x.npy? [y]es, [n]o, [A]ll, [N]one, [r]ename: y\n",
            "  inflating: training_data/sb/unconstrained/x.npy  \n",
            "replace training_data/sb/unconstrained/y.npy? [y]es, [n]o, [A]ll, [N]one, [r]ename: y\n",
            "  inflating: training_data/sb/unconstrained/y.npy  \n"
          ]
        }
      ]
    },
    {
      "cell_type": "code",
      "source": [
        "!ls"
      ],
      "metadata": {
        "colab": {
          "base_uri": "https://localhost:8080/"
        },
        "id": "rMgX4vZjKPhI",
        "outputId": "24426fe3-8b83-449f-d1a2-0d42dde5a08f"
      },
      "execution_count": 25,
      "outputs": [
        {
          "output_type": "stream",
          "name": "stdout",
          "text": [
            "MLQD\t\t     pinn_sb_traj.npy  trace_conservation  training_data.zip\ttraining_data.zip.2\n",
            "pinn_sb_model.keras  sample_data       training_data\t   training_data.zip.1\n"
          ]
        }
      ]
    },
    {
      "cell_type": "code",
      "source": [
        "# input for MLQD package, more details are given at https://github.com/Arif-PhyChem/MLQD\n",
        "\n",
        "param={\n",
        "    'n_states': 7,\n",
        "      'QDmodel': 'createQDmodel',     # str: create QD model. The dafault option is useQDmodel\n",
        "      'QDmodelType': 'RCDYN',           # str: The type of model. Here KRR and the default option is OSTL\n",
        "      'prepInput' : 'False',           # str: Prepare input files from the data (Default 'False')\n",
        "      'XfileIn': 'training_data/fmo/pinn/x',           # str: (Optional) The prepared X file\n",
        "      'YfileIn': 'training_data/fmo/pinn/y',           # str: (Optional) The prepared Y file\n",
        "      'hyperParam': 'False',           # str: Default is 'False', we can pass 'True' (optimize the hyperparameters) or 'False' (don't optimize and run with the default values)\n",
        "      'pinn': 'True',\n",
        "      'patience': 30,\n",
        "      'OptEpochs': 30,\n",
        "      'TrEpochs': 10,\n",
        "      'max_evals': 30,\n",
        "      'systemType': 'FMO',\n",
        "      'QDmodelOut': 'pinn_fmo_model'    # str: (Optional), providing a name to save the model at\n",
        "      }\n",
        "quant_dyn(**param)"
      ],
      "metadata": {
        "colab": {
          "base_uri": "https://localhost:8080/"
        },
        "id": "lPt_88P5dzws",
        "outputId": "6f663da6-c045-4a15-85a2-5d8d9bf99b5b"
      },
      "execution_count": 27,
      "outputs": [
        {
          "output_type": "stream",
          "name": "stdout",
          "text": [
            "=================================================================\n",
            "MLQD is a python package developed for Machine Learning-based Quantum Dissipative Dynamics,\n",
            " \t\t\t\t  Version 1.1.1\n",
            "\t\t\t https://github.com/Arif-PhyChem/MLQD\n",
            "\n",
            " \t\t\t Copyright (c) 2023 Arif Ullah\n",
            "\n",
            "All rights reserved. This work is licensed under the Apache Software License 2.0\n",
            "\n",
            "\n",
            "The above copyright notice and this permission notice shall be included \n",
            "in all copies or substantial portions of the Software.\n",
            "\n",
            "\n",
            "The software is provided \"as is\" without warranty of any kind, express or implied, \n",
            "including but not limited to the warranties ofmerchantability, fitness for a particular \n",
            "purpose and noninfringement. In no event shall the authors or copyright holders be \n",
            "liable for any claim, damages or other liability, whether in an action of contract, tort or otherwise, \n",
            "arising from, out of or in connection with the software or the use or other dealings in the software.\n",
            "\n",
            "\n",
            "\t\t\t\t Cite as:\n",
            "\n",
            "1) Ullah A. and Dral P. O., Computer Physics Communications, 2023, 294, 108940\n",
            "2) Ullah A. and Dral P. O., New Journal of Physics, 2021, 23(11), 113019\n",
            "3) Ullah A. and Dral P. O., Nature Communications, 2022, 13(1), 1930\n",
            "4) Ullah A. and Dral P. O., Journal of Physical Chemistry Letters, 2022, 13(26), 6037\n",
            "5) Rodriguez L. E. H.; Ullah A.; Espinosa K. J. R.; Dral P. O. and Kananenka A. A., Machine Learning: Science and Technology, 2022, 3(4), 045016\n",
            "6) Ullah, A., Rodriguez, L. E. H., Dral P. O., and Kananenka, A. A., Frontiers in Physics, 2023, 11, 1223973\n",
            "\n",
            "Contributers List:\n",
            "\n",
            "1) Arif Ullah (main) \n",
            "2) Pavlo O. Dral\n",
            "=================================================================\n",
            "MLQD is started at 2024-06-18 10:01:44.295673\n",
            "=================================================================\n",
            "Setting \"systemType\" to FMO\n",
            "MLQD is running with the option QDmodel =  createQDmodel\n",
            "Setting ML Model Type \"QDmodelType\" to RCDYN\n",
            "Setting number of states \"n_states\" to 7\n",
            "You have chosen not to prepare the input files, othewise you should pass \"True\" to prepInput\n",
            "Model will be saved as pinn_fmo_model\n",
            "Xfilein is training_data/fmo/pinn/x\n",
            "YfileIn is training_data/fmo/pinn/y\n",
            "You have chosen not to optimize the hyper parameters of the model, otherwise you should pass \"True\" to hyperParam\n",
            "=================================================================\n",
            "Setting patience for early stopping to 30\n",
            "Setting number of epochs for training to 10\n",
            "Setting length of x-input \"xlength\" to default value 81\n",
            "Running with the dafault propagation time; time: 50 \n",
            "Running with the dafault time-step: time_step: 0.005\n",
            "Training a physics-informed neural network (PINN)\n",
            "Running with default prior option 0 with no trace conservation\n",
            "Setting data column \"dataCol\" to None, full reduced density matrix will be considered\n",
            "=================================================================\n",
            "=================================================================\n",
            "Train.ml_RCDYN: Looking for best_param.pkl\n",
            "=================================================================\n",
            "Train.ml_RCDYN: best_param.pkl not found, thus training CNN model with the default structure\n",
            "=================================================================\n",
            "Data: Checking to see whether the input data files training_data/fmo/pinn/x.npy and training_data/fmo/pinn/y.npy exist\n",
            "Data: Loading data files training_data/fmo/pinn/x.npy and training_data/fmo/pinn/y.npy\n",
            "Data: splitting data into sub-training/validation sets with 80/20 % ratio\n",
            "=================================================================\n",
            "cnn.OSTL_default: Running wth EarlyStopping of patience = 30\n",
            "cnn.OSTL_default: Running with batch size = 16 and epochs = 10\n",
            "=================================================================\n",
            "Epoch 1/10\n",
            "Running with custom loss: mse + trace penalty term\n",
            "Running with custom loss: mse + trace penalty term\n",
            "Running with custom loss: mse + trace penalty term\n",
            "3600/3600 - 50s - 14ms/step - loss: 0.0019 - val_loss: 3.5492e-04\n",
            "Epoch 2/10\n",
            "3600/3600 - 45s - 12ms/step - loss: 2.2045e-04 - val_loss: 2.9956e-05\n",
            "Epoch 3/10\n",
            "3600/3600 - 82s - 23ms/step - loss: 1.4891e-04 - val_loss: 3.1093e-04\n",
            "Epoch 4/10\n",
            "3600/3600 - 82s - 23ms/step - loss: 1.2754e-04 - val_loss: 1.1923e-04\n",
            "Epoch 5/10\n",
            "3600/3600 - 82s - 23ms/step - loss: 7.7665e-05 - val_loss: 1.6958e-05\n",
            "Epoch 6/10\n",
            "3600/3600 - 83s - 23ms/step - loss: 8.9923e-05 - val_loss: 7.1104e-05\n",
            "Epoch 7/10\n",
            "3600/3600 - 82s - 23ms/step - loss: 6.8152e-05 - val_loss: 4.1848e-04\n",
            "Epoch 8/10\n",
            "3600/3600 - 82s - 23ms/step - loss: 5.5223e-05 - val_loss: 8.0776e-06\n",
            "Epoch 9/10\n",
            "3600/3600 - 44s - 12ms/step - loss: 7.7106e-05 - val_loss: 7.7339e-05\n",
            "Epoch 10/10\n",
            "3600/3600 - 83s - 23ms/step - loss: 3.8484e-05 - val_loss: 1.1541e-05\n",
            "Restoring model weights from the end of the best epoch: 8.\n",
            "=================================================================\n",
            "cnn.OSTL_default: OSTL model is saved as \" pinn_fmo_model.keras \"\n",
            "Train_ml.RCDYN: Time taken for training = 717.5512092113495 sec\n",
            "=================================================================\n",
            "=================================================================\n",
            "MLQD is ended at 2024-06-18 10:13:41.848761\n"
          ]
        },
        {
          "output_type": "execute_result",
          "data": {
            "text/plain": [
              "<evolution.quant_dyn at 0x7cb88dc29f00>"
            ]
          },
          "metadata": {},
          "execution_count": 27
        }
      ]
    },
    {
      "cell_type": "code",
      "source": [
        "xx = np.load('trace_conservation/test_data/fmo/7_initial-1_gamma-475.0_lambda-10.0_temp-30.0.npy')\n",
        "\n",
        "x = xx[0:41,1:]\n",
        "\n",
        "param={\n",
        "        'n_states': 7,\n",
        "        'time': 2,\n",
        "        'QDmodel': 'useQDmodel',     # str: create QD model. The dafault option is useQDmodel\n",
        "        'QDmodelType': 'RCDYN',           # str: The type of model. Here KRR and the default option is OSTL\n",
        "        'XfileIn': x,           # str: (Optional) The prepared X file will be saved at the provided file name\n",
        "        'cons_trace': 'False',\n",
        "        'systemType': 'FMO', # str: (Not optional) Need to define, wether your model is spin-boson (SB) or FMO complex (FMO)\n",
        "        'QDmodelIn': 'pinn_fmo_model.keras',    # str: (Optional), providing a name to save the model at\n",
        "        'QDtrajOut': 'pinn_fmo_traj'  # predicted trajectory will be saved with this name\n",
        "      }\n",
        "quant_dyn(**param)\n"
      ],
      "metadata": {
        "id": "H38Pv4bSZzqq",
        "colab": {
          "base_uri": "https://localhost:8080/",
          "height": 1000
        },
        "outputId": "8301f6f4-cbd6-4939-a285-367e5cb44a5f"
      },
      "execution_count": null,
      "outputs": [
        {
          "output_type": "stream",
          "name": "stdout",
          "text": [
            "=================================================================\n",
            "MLQD is a python package developed for Machine Learning-based Quantum Dissipative Dynamics,\n",
            " \t\t\t\t  Version 1.1.1\n",
            "\t\t\t https://github.com/Arif-PhyChem/MLQD\n",
            "\n",
            " \t\t\t Copyright (c) 2023 Arif Ullah\n",
            "\n",
            "All rights reserved. This work is licensed under the Apache Software License 2.0\n",
            "\n",
            "\n",
            "The above copyright notice and this permission notice shall be included \n",
            "in all copies or substantial portions of the Software.\n",
            "\n",
            "\n",
            "The software is provided \"as is\" without warranty of any kind, express or implied, \n",
            "including but not limited to the warranties ofmerchantability, fitness for a particular \n",
            "purpose and noninfringement. In no event shall the authors or copyright holders be \n",
            "liable for any claim, damages or other liability, whether in an action of contract, tort or otherwise, \n",
            "arising from, out of or in connection with the software or the use or other dealings in the software.\n",
            "\n",
            "\n",
            "\t\t\t\t Cite as:\n",
            "\n",
            "1) Ullah A. and Dral P. O., Computer Physics Communications, 2023, 294, 108940\n",
            "2) Ullah A. and Dral P. O., New Journal of Physics, 2021, 23(11), 113019\n",
            "3) Ullah A. and Dral P. O., Nature Communications, 2022, 13(1), 1930\n",
            "4) Ullah A. and Dral P. O., Journal of Physical Chemistry Letters, 2022, 13(26), 6037\n",
            "5) Rodriguez L. E. H.; Ullah A.; Espinosa K. J. R.; Dral P. O. and Kananenka A. A., Machine Learning: Science and Technology, 2022, 3(4), 045016\n",
            "6) Ullah, A., Rodriguez, L. E. H., Dral P. O., and Kananenka, A. A., Frontiers in Physics, 2023, 11, 1223973\n",
            "\n",
            "Contributers List:\n",
            "\n",
            "1) Arif Ullah (main) \n",
            "2) Pavlo O. Dral\n",
            "=================================================================\n",
            "MLQD is started at 2024-06-18 10:19:38.794591\n",
            "=================================================================\n",
            "Setting \"systemType\" to FMO\n",
            "MLQD is running with the option QDmodel =  useQDmodel\n",
            "Setting ML Model Type \"QDmodelType\" to RCDYN\n",
            "Setting number of states \"n_states\" to 7\n",
            "Setting propagation time \"time\" to 2\n",
            "Running with the dafault time-step: time_step: 0.005\n",
            "Using the trained model(s) \"pinn_fmo_model.keras\" for dynamics prediction\n",
            "Running with the default value of initial state; initState = 1\n",
            "The input is = [[ 1.00000000e+00+0.00000000e+00j  0.00000000e+00+0.00000000e+00j\n",
            "   0.00000000e+00+0.00000000e+00j ...  0.00000000e+00+0.00000000e+00j\n",
            "   0.00000000e+00+0.00000000e+00j  0.00000000e+00+0.00000000e+00j]\n",
            " [ 9.85544076e-01-1.63039093e-19j  9.46476484e-03-8.02994401e-02j\n",
            "   4.12131006e-03+4.82853296e-03j ... -6.12539757e-05+1.17371759e-05j\n",
            "   1.36934416e-04+4.43575865e-06j  1.86897536e-04-3.01931510e-21j]\n",
            " [ 9.58162888e-01-1.15836321e-18j  2.74525920e-02-1.53889847e-01j\n",
            "   1.07582827e-02+8.71304712e-03j ... -2.27679057e-04+5.67975854e-05j\n",
            "   4.75461956e-04+5.81499230e-05j  5.24895089e-04-2.05129730e-20j]\n",
            " ...\n",
            " [ 6.74675862e-01+5.24233437e-16j  2.08203100e-01-1.71593421e-01j\n",
            "   8.90874933e-02-1.12614613e-02j ...  8.56475850e-04-1.43814914e-03j\n",
            "  -8.23140098e-04-4.01082713e-05j  3.43639931e-03+1.55685003e-17j]\n",
            " [ 6.46074578e-01+5.17480719e-16j  2.29003955e-01-1.73561286e-01j\n",
            "   8.99389076e-02-1.18693042e-02j ...  1.14898194e-03-1.27516995e-03j\n",
            "  -5.85542308e-04-3.12703896e-04j  3.47823355e-03+1.82547069e-17j]\n",
            " [ 6.18286170e-01+4.77582617e-16j  2.49232513e-01-1.68682334e-01j\n",
            "   9.06648594e-02-1.18918741e-02j ...  1.39248082e-03-1.07133670e-03j\n",
            "  -3.32885390e-04-4.41161933e-04j  3.53131710e-03+2.05689413e-17j]]\n",
            "You have chosen not to impose the constraint of trace conservation, otherwise you should pass \"True\" to cons_trace\n",
            "=================================================================\n",
            "Running with default prior option 0 with no trace conservation\n",
            "=================================================================\n"
          ]
        },
        {
          "output_type": "display_data",
          "data": {
            "text/plain": [
              "\u001b[1mModel: \"sequential_1\"\u001b[0m\n"
            ],
            "text/html": [
              "<pre style=\"white-space:pre;overflow-x:auto;line-height:normal;font-family:Menlo,'DejaVu Sans Mono',consolas,'Courier New',monospace\"><span style=\"font-weight: bold\">Model: \"sequential_1\"</span>\n",
              "</pre>\n"
            ]
          },
          "metadata": {}
        },
        {
          "output_type": "display_data",
          "data": {
            "text/plain": [
              "┏━━━━━━━━━━━━━━━━━━━━━━━━━━━━━━━━━━━━━━┳━━━━━━━━━━━━━━━━━━━━━━━━━━━━━┳━━━━━━━━━━━━━━━━━┓\n",
              "┃\u001b[1m \u001b[0m\u001b[1mLayer (type)                        \u001b[0m\u001b[1m \u001b[0m┃\u001b[1m \u001b[0m\u001b[1mOutput Shape               \u001b[0m\u001b[1m \u001b[0m┃\u001b[1m \u001b[0m\u001b[1m        Param #\u001b[0m\u001b[1m \u001b[0m┃\n",
              "┡━━━━━━━━━━━━━━━━━━━━━━━━━━━━━━━━━━━━━━╇━━━━━━━━━━━━━━━━━━━━━━━━━━━━━╇━━━━━━━━━━━━━━━━━┩\n",
              "│ conv1d_3 (\u001b[38;5;33mConv1D\u001b[0m)                    │ (\u001b[38;5;45mNone\u001b[0m, \u001b[38;5;34m2007\u001b[0m, \u001b[38;5;34m80\u001b[0m)            │             \u001b[38;5;34m320\u001b[0m │\n",
              "├──────────────────────────────────────┼─────────────────────────────┼─────────────────┤\n",
              "│ conv1d_4 (\u001b[38;5;33mConv1D\u001b[0m)                    │ (\u001b[38;5;45mNone\u001b[0m, \u001b[38;5;34m2007\u001b[0m, \u001b[38;5;34m110\u001b[0m)           │          \u001b[38;5;34m26,510\u001b[0m │\n",
              "├──────────────────────────────────────┼─────────────────────────────┼─────────────────┤\n",
              "│ conv1d_5 (\u001b[38;5;33mConv1D\u001b[0m)                    │ (\u001b[38;5;45mNone\u001b[0m, \u001b[38;5;34m2007\u001b[0m, \u001b[38;5;34m80\u001b[0m)            │          \u001b[38;5;34m26,480\u001b[0m │\n",
              "├──────────────────────────────────────┼─────────────────────────────┼─────────────────┤\n",
              "│ max_pooling1d_1 (\u001b[38;5;33mMaxPooling1D\u001b[0m)       │ (\u001b[38;5;45mNone\u001b[0m, \u001b[38;5;34m1003\u001b[0m, \u001b[38;5;34m80\u001b[0m)            │               \u001b[38;5;34m0\u001b[0m │\n",
              "├──────────────────────────────────────┼─────────────────────────────┼─────────────────┤\n",
              "│ flatten_1 (\u001b[38;5;33mFlatten\u001b[0m)                  │ (\u001b[38;5;45mNone\u001b[0m, \u001b[38;5;34m80240\u001b[0m)               │               \u001b[38;5;34m0\u001b[0m │\n",
              "├──────────────────────────────────────┼─────────────────────────────┼─────────────────┤\n",
              "│ dense_3 (\u001b[38;5;33mDense\u001b[0m)                      │ (\u001b[38;5;45mNone\u001b[0m, \u001b[38;5;34m32\u001b[0m)                  │       \u001b[38;5;34m2,567,712\u001b[0m │\n",
              "├──────────────────────────────────────┼─────────────────────────────┼─────────────────┤\n",
              "│ dense_4 (\u001b[38;5;33mDense\u001b[0m)                      │ (\u001b[38;5;45mNone\u001b[0m, \u001b[38;5;34m128\u001b[0m)                 │           \u001b[38;5;34m4,224\u001b[0m │\n",
              "├──────────────────────────────────────┼─────────────────────────────┼─────────────────┤\n",
              "│ dense_5 (\u001b[38;5;33mDense\u001b[0m)                      │ (\u001b[38;5;45mNone\u001b[0m, \u001b[38;5;34m49\u001b[0m)                  │           \u001b[38;5;34m6,321\u001b[0m │\n",
              "└──────────────────────────────────────┴─────────────────────────────┴─────────────────┘\n"
            ],
            "text/html": [
              "<pre style=\"white-space:pre;overflow-x:auto;line-height:normal;font-family:Menlo,'DejaVu Sans Mono',consolas,'Courier New',monospace\">┏━━━━━━━━━━━━━━━━━━━━━━━━━━━━━━━━━━━━━━┳━━━━━━━━━━━━━━━━━━━━━━━━━━━━━┳━━━━━━━━━━━━━━━━━┓\n",
              "┃<span style=\"font-weight: bold\"> Layer (type)                         </span>┃<span style=\"font-weight: bold\"> Output Shape                </span>┃<span style=\"font-weight: bold\">         Param # </span>┃\n",
              "┡━━━━━━━━━━━━━━━━━━━━━━━━━━━━━━━━━━━━━━╇━━━━━━━━━━━━━━━━━━━━━━━━━━━━━╇━━━━━━━━━━━━━━━━━┩\n",
              "│ conv1d_3 (<span style=\"color: #0087ff; text-decoration-color: #0087ff\">Conv1D</span>)                    │ (<span style=\"color: #00d7ff; text-decoration-color: #00d7ff\">None</span>, <span style=\"color: #00af00; text-decoration-color: #00af00\">2007</span>, <span style=\"color: #00af00; text-decoration-color: #00af00\">80</span>)            │             <span style=\"color: #00af00; text-decoration-color: #00af00\">320</span> │\n",
              "├──────────────────────────────────────┼─────────────────────────────┼─────────────────┤\n",
              "│ conv1d_4 (<span style=\"color: #0087ff; text-decoration-color: #0087ff\">Conv1D</span>)                    │ (<span style=\"color: #00d7ff; text-decoration-color: #00d7ff\">None</span>, <span style=\"color: #00af00; text-decoration-color: #00af00\">2007</span>, <span style=\"color: #00af00; text-decoration-color: #00af00\">110</span>)           │          <span style=\"color: #00af00; text-decoration-color: #00af00\">26,510</span> │\n",
              "├──────────────────────────────────────┼─────────────────────────────┼─────────────────┤\n",
              "│ conv1d_5 (<span style=\"color: #0087ff; text-decoration-color: #0087ff\">Conv1D</span>)                    │ (<span style=\"color: #00d7ff; text-decoration-color: #00d7ff\">None</span>, <span style=\"color: #00af00; text-decoration-color: #00af00\">2007</span>, <span style=\"color: #00af00; text-decoration-color: #00af00\">80</span>)            │          <span style=\"color: #00af00; text-decoration-color: #00af00\">26,480</span> │\n",
              "├──────────────────────────────────────┼─────────────────────────────┼─────────────────┤\n",
              "│ max_pooling1d_1 (<span style=\"color: #0087ff; text-decoration-color: #0087ff\">MaxPooling1D</span>)       │ (<span style=\"color: #00d7ff; text-decoration-color: #00d7ff\">None</span>, <span style=\"color: #00af00; text-decoration-color: #00af00\">1003</span>, <span style=\"color: #00af00; text-decoration-color: #00af00\">80</span>)            │               <span style=\"color: #00af00; text-decoration-color: #00af00\">0</span> │\n",
              "├──────────────────────────────────────┼─────────────────────────────┼─────────────────┤\n",
              "│ flatten_1 (<span style=\"color: #0087ff; text-decoration-color: #0087ff\">Flatten</span>)                  │ (<span style=\"color: #00d7ff; text-decoration-color: #00d7ff\">None</span>, <span style=\"color: #00af00; text-decoration-color: #00af00\">80240</span>)               │               <span style=\"color: #00af00; text-decoration-color: #00af00\">0</span> │\n",
              "├──────────────────────────────────────┼─────────────────────────────┼─────────────────┤\n",
              "│ dense_3 (<span style=\"color: #0087ff; text-decoration-color: #0087ff\">Dense</span>)                      │ (<span style=\"color: #00d7ff; text-decoration-color: #00d7ff\">None</span>, <span style=\"color: #00af00; text-decoration-color: #00af00\">32</span>)                  │       <span style=\"color: #00af00; text-decoration-color: #00af00\">2,567,712</span> │\n",
              "├──────────────────────────────────────┼─────────────────────────────┼─────────────────┤\n",
              "│ dense_4 (<span style=\"color: #0087ff; text-decoration-color: #0087ff\">Dense</span>)                      │ (<span style=\"color: #00d7ff; text-decoration-color: #00d7ff\">None</span>, <span style=\"color: #00af00; text-decoration-color: #00af00\">128</span>)                 │           <span style=\"color: #00af00; text-decoration-color: #00af00\">4,224</span> │\n",
              "├──────────────────────────────────────┼─────────────────────────────┼─────────────────┤\n",
              "│ dense_5 (<span style=\"color: #0087ff; text-decoration-color: #0087ff\">Dense</span>)                      │ (<span style=\"color: #00d7ff; text-decoration-color: #00d7ff\">None</span>, <span style=\"color: #00af00; text-decoration-color: #00af00\">49</span>)                  │           <span style=\"color: #00af00; text-decoration-color: #00af00\">6,321</span> │\n",
              "└──────────────────────────────────────┴─────────────────────────────┴─────────────────┘\n",
              "</pre>\n"
            ]
          },
          "metadata": {}
        },
        {
          "output_type": "display_data",
          "data": {
            "text/plain": [
              "\u001b[1m Total params: \u001b[0m\u001b[38;5;34m2,631,567\u001b[0m (10.04 MB)\n"
            ],
            "text/html": [
              "<pre style=\"white-space:pre;overflow-x:auto;line-height:normal;font-family:Menlo,'DejaVu Sans Mono',consolas,'Courier New',monospace\"><span style=\"font-weight: bold\"> Total params: </span><span style=\"color: #00af00; text-decoration-color: #00af00\">2,631,567</span> (10.04 MB)\n",
              "</pre>\n"
            ]
          },
          "metadata": {}
        },
        {
          "output_type": "display_data",
          "data": {
            "text/plain": [
              "\u001b[1m Trainable params: \u001b[0m\u001b[38;5;34m2,631,567\u001b[0m (10.04 MB)\n"
            ],
            "text/html": [
              "<pre style=\"white-space:pre;overflow-x:auto;line-height:normal;font-family:Menlo,'DejaVu Sans Mono',consolas,'Courier New',monospace\"><span style=\"font-weight: bold\"> Trainable params: </span><span style=\"color: #00af00; text-decoration-color: #00af00\">2,631,567</span> (10.04 MB)\n",
              "</pre>\n"
            ]
          },
          "metadata": {}
        },
        {
          "output_type": "display_data",
          "data": {
            "text/plain": [
              "\u001b[1m Non-trainable params: \u001b[0m\u001b[38;5;34m0\u001b[0m (0.00 B)\n"
            ],
            "text/html": [
              "<pre style=\"white-space:pre;overflow-x:auto;line-height:normal;font-family:Menlo,'DejaVu Sans Mono',consolas,'Courier New',monospace\"><span style=\"font-weight: bold\"> Non-trainable params: </span><span style=\"color: #00af00; text-decoration-color: #00af00\">0</span> (0.00 B)\n",
              "</pre>\n"
            ]
          },
          "metadata": {}
        },
        {
          "output_type": "stream",
          "name": "stdout",
          "text": [
            "ml_dyn.RCDYN: Running recursive dynamics with CNN model......\n"
          ]
        }
      ]
    },
    {
      "cell_type": "code",
      "source": [
        "# Plot trace vs time\n",
        "x = np.load('pinn_fmo_traj.npy')\n",
        "trace = np.real(x[:,1] + x[:,9] + x[:,17] + x[:,25] + x[:,33] + x[:, 41] + x[:,49])\n",
        "\n",
        "plt.plot(x[:,0], trace)"
      ],
      "metadata": {
        "id": "m4TiSj1pVXx0"
      },
      "execution_count": null,
      "outputs": []
    }
  ]
}