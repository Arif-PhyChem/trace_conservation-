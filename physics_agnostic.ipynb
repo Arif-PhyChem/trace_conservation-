{
 "cells": [
  {
   "cell_type": "code",
   "execution_count": null,
   "id": "a09d5937-ac43-47f1-9d89-8514e3e9771e",
   "metadata": {},
   "outputs": [],
   "source": [
    "[![Open In Colab](https://colab.research.google.com/assets/colab-badge.svg)](\n",
    "https://colab.research.google.com/github/Arif-PhyChem/trace_conservation/blob/main/physics_agnostic.ipynb)"
   ]
  },
  {
   "cell_type": "code",
   "execution_count": 1,
   "id": "ca5cecd1",
   "metadata": {},
   "outputs": [
    {
     "name": "stderr",
     "output_type": "stream",
     "text": [
      "Cloning into 'MLQD'...\n"
     ]
    }
   ],
   "source": [
    "import sys\n",
    "import os\n",
    "\n",
    "! git clone https://github.com/Arif-PhyChem/MLQD.git"
   ]
  },
  {
   "cell_type": "code",
   "execution_count": null,
   "id": "e1e1a3dc",
   "metadata": {},
   "outputs": [],
   "source": [
    "# install the required packages\n",
    "\n",
    "! pip install tensorflow\n",
    "! pip install sklearn\n",
    "! pip install hyperopt"
   ]
  },
  {
   "cell_type": "code",
   "execution_count": 5,
   "id": "8e9b292c",
   "metadata": {},
   "outputs": [],
   "source": [
    "\n",
    "mlqd_dir='MLQD/dev_ver'\n",
    "sys.path.append(mlqd_dir)"
   ]
  },
  {
   "cell_type": "code",
   "execution_count": 7,
   "id": "742a43b6",
   "metadata": {},
   "outputs": [
    {
     "ename": "ModuleNotFoundError",
     "evalue": "No module named 'tensorflow'",
     "output_type": "error",
     "traceback": [
      "\u001b[1;31m---------------------------------------------------------------------------\u001b[0m",
      "\u001b[1;31mModuleNotFoundError\u001b[0m                       Traceback (most recent call last)",
      "Cell \u001b[1;32mIn[7], line 11\u001b[0m\n\u001b[0;32m      8\u001b[0m DIR\u001b[38;5;241m=\u001b[39m\u001b[38;5;124m'\u001b[39m\u001b[38;5;124m/home/dell/arif/pypackage/v_1.1.2/mlqd_dev\u001b[39m\u001b[38;5;124m'\u001b[39m\n\u001b[0;32m      9\u001b[0m sys\u001b[38;5;241m.\u001b[39mpath\u001b[38;5;241m.\u001b[39mappend(DIR)\n\u001b[1;32m---> 11\u001b[0m \u001b[38;5;28;01mfrom\u001b[39;00m \u001b[38;5;21;01mevolution\u001b[39;00m \u001b[38;5;28;01mimport\u001b[39;00m quant_dyn\n\u001b[0;32m     13\u001b[0m param\u001b[38;5;241m=\u001b[39m{\n\u001b[0;32m     14\u001b[0m     \u001b[38;5;124m'\u001b[39m\u001b[38;5;124mn_states\u001b[39m\u001b[38;5;124m'\u001b[39m: \u001b[38;5;241m2\u001b[39m,\n\u001b[0;32m     15\u001b[0m       \u001b[38;5;124m'\u001b[39m\u001b[38;5;124mQDmodel\u001b[39m\u001b[38;5;124m'\u001b[39m: \u001b[38;5;124m'\u001b[39m\u001b[38;5;124mcreateQDmodel\u001b[39m\u001b[38;5;124m'\u001b[39m,     \u001b[38;5;66;03m# str: create QD model. The dafault option is useQDmodel\u001b[39;00m\n\u001b[1;32m   (...)\u001b[0m\n\u001b[0;32m     31\u001b[0m       \u001b[38;5;124m'\u001b[39m\u001b[38;5;124mQDmodelOut\u001b[39m\u001b[38;5;124m'\u001b[39m: \u001b[38;5;124m'\u001b[39m\u001b[38;5;124mRC_SB_model_1\u001b[39m\u001b[38;5;124m'\u001b[39m    \u001b[38;5;66;03m# str: (Optional), providing a name to save the model at\u001b[39;00m\n\u001b[0;32m     32\u001b[0m       }\n\u001b[0;32m     33\u001b[0m quant_dyn(\u001b[38;5;241m*\u001b[39m\u001b[38;5;241m*\u001b[39mparam)\n",
      "File \u001b[1;32m~\\Downloads\\MLQD/dev_ver\\evolution.py:9\u001b[0m\n\u001b[0;32m      7\u001b[0m \u001b[38;5;28;01mimport\u001b[39;00m \u001b[38;5;21;01mdatetime\u001b[39;00m\n\u001b[0;32m      8\u001b[0m \u001b[38;5;28;01mfrom\u001b[39;00m \u001b[38;5;21;01mpathlib\u001b[39;00m \u001b[38;5;28;01mimport\u001b[39;00m Path\n\u001b[1;32m----> 9\u001b[0m \u001b[38;5;28;01mimport\u001b[39;00m \u001b[38;5;21;01mml_dyn\u001b[39;00m \u001b[38;5;28;01mas\u001b[39;00m \u001b[38;5;21;01mmld\u001b[39;00m\n\u001b[0;32m     10\u001b[0m \u001b[38;5;28;01mimport\u001b[39;00m \u001b[38;5;21;01mlic\u001b[39;00m \u001b[38;5;28;01mas\u001b[39;00m \u001b[38;5;21;01mlic\u001b[39;00m\n\u001b[0;32m     11\u001b[0m \u001b[38;5;28;01mimport\u001b[39;00m \u001b[38;5;21;01mplot\u001b[39;00m \u001b[38;5;28;01mas\u001b[39;00m \u001b[38;5;21;01mplot\u001b[39;00m\n",
      "File \u001b[1;32m~\\Downloads\\MLQD/dev_ver\\ml_dyn.py:6\u001b[0m\n\u001b[0;32m      4\u001b[0m \u001b[38;5;28;01mimport\u001b[39;00m \u001b[38;5;21;01mnumpy\u001b[39;00m \u001b[38;5;28;01mas\u001b[39;00m \u001b[38;5;21;01mnp\u001b[39;00m\n\u001b[0;32m      5\u001b[0m \u001b[38;5;28;01mimport\u001b[39;00m \u001b[38;5;21;01mtime\u001b[39;00m \u001b[38;5;28;01mas\u001b[39;00m \u001b[38;5;21;01mproc_time\u001b[39;00m\n\u001b[1;32m----> 6\u001b[0m \u001b[38;5;28;01mimport\u001b[39;00m \u001b[38;5;21;01mtensorflow\u001b[39;00m\u001b[38;5;21;01m.\u001b[39;00m\u001b[38;5;21;01mkeras\u001b[39;00m \u001b[38;5;28;01mas\u001b[39;00m \u001b[38;5;21;01mkeras\u001b[39;00m\n\u001b[0;32m      7\u001b[0m \u001b[38;5;28;01mfrom\u001b[39;00m \u001b[38;5;21;01mtensorflow\u001b[39;00m\u001b[38;5;21;01m.\u001b[39;00m\u001b[38;5;21;01mkeras\u001b[39;00m\u001b[38;5;21;01m.\u001b[39;00m\u001b[38;5;21;01mlayers\u001b[39;00m \u001b[38;5;28;01mimport\u001b[39;00m Dense\n\u001b[0;32m      8\u001b[0m \u001b[38;5;28;01mfrom\u001b[39;00m \u001b[38;5;21;01mtensorflow\u001b[39;00m\u001b[38;5;21;01m.\u001b[39;00m\u001b[38;5;21;01mkeras\u001b[39;00m\u001b[38;5;21;01m.\u001b[39;00m\u001b[38;5;21;01mlayers\u001b[39;00m \u001b[38;5;28;01mimport\u001b[39;00m Flatten\n",
      "\u001b[1;31mModuleNotFoundError\u001b[0m: No module named 'tensorflow'"
     ]
    }
   ],
   "source": [
    "import os\n",
    "import sys\n",
    "import glob \n",
    "import numpy as np\n",
    "\n",
    "\n",
    "#DIR = os.path.normpath(os.getcwd() + os.sep + os.pardir) + '/MLQD'\n",
    "DIR='/home/dell/arif/pypackage/v_1.1.2/mlqd_dev'\n",
    "sys.path.append(DIR)\n",
    "\n",
    "from evolution import quant_dyn\n",
    "\n",
    "param={\n",
    "    'n_states': 2,\n",
    "      'QDmodel': 'createQDmodel',     # str: create QD model. The dafault option is useQDmodel\n",
    "      'QDmodelType': 'RCDYN',           # str: The type of model. Here KRR and the default option is OSTL\n",
    "      'prepInput' : 'False',           # str: Prepare input files from the data (Default 'False')\n",
    "      'XfileIn': 'x',           # str: (Optional) The prepared X file will be saved at the provided file name\n",
    "      'YfileIn': 'y_1',           # str: (Optional) The prepared Y file will be saved at the provided file name\n",
    "      'time': 10,\n",
    "      'time_step': 0.05,\n",
    "      'dataCol': 1,\n",
    "      'xlength': 41,\n",
    "      'hyperParam': 'False',           # str: Default is 'False', we can pass 'True' (optimize the hyperparameters) or 'False' (don't optimize and run with the default values)\n",
    "      'patience': 30, \n",
    "      'OptEpochs': 30,\n",
    "      'TrEpochs': 500,\n",
    "      'max_evals': 30,\n",
    "      'systemType': 'SB', # str: (Not optional) Need to define, wether your model is spin-boson (SB) or FMO complex (FMO)\n",
    "      'dataPath': '/home/dell/arif/pypackage/sb/data/training_data/sym',\n",
    "      'QDmodelOut': 'RC_SB_model_1'    # str: (Optional), providing a name to save the model at\n",
    "      }\n",
    "quant_dyn(**param)\n",
    "\n"
   ]
  },
  {
   "cell_type": "code",
   "execution_count": null,
   "id": "c5e6a6b5-86f5-42f2-a1df-b7ad9422d466",
   "metadata": {},
   "outputs": [],
   "source": []
  }
 ],
 "metadata": {
  "kernelspec": {
   "display_name": "Python 3 (ipykernel)",
   "language": "python",
   "name": "python3"
  },
  "language_info": {
   "codemirror_mode": {
    "name": "ipython",
    "version": 3
   },
   "file_extension": ".py",
   "mimetype": "text/x-python",
   "name": "python",
   "nbconvert_exporter": "python",
   "pygments_lexer": "ipython3",
   "version": "3.11.7"
  }
 },
 "nbformat": 4,
 "nbformat_minor": 5
}
